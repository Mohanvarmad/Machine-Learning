{
  "nbformat": 4,
  "nbformat_minor": 0,
  "metadata": {
    "colab": {
      "name": "sudoku solver.ipynb",
      "provenance": [],
      "collapsed_sections": []
    },
    "kernelspec": {
      "name": "python3",
      "display_name": "Python 3"
    }
  },
  "cells": [
    {
      "cell_type": "markdown",
      "metadata": {
        "id": "Zoge8ZQtU5tu"
      },
      "source": [
        "### Installing CBC solver in google colab"
      ]
    },
    {
      "cell_type": "code",
      "metadata": {
        "id": "X9Tdq5V2QK83",
        "outputId": "89114bc3-4e69-4cad-faad-d8f9069b519b",
        "colab": {
          "base_uri": "https://localhost:8080/"
        }
      },
      "source": [
        "!apt-get install -y -qq coinor-cbc"
      ],
      "execution_count": 19,
      "outputs": [
        {
          "output_type": "stream",
          "text": [
            "Selecting previously unselected package coinor-libcoinutils3v5.\n",
            "(Reading database ... 144786 files and directories currently installed.)\n",
            "Preparing to unpack .../0-coinor-libcoinutils3v5_2.10.14+repack1-1_amd64.deb ...\n",
            "Unpacking coinor-libcoinutils3v5 (2.10.14+repack1-1) ...\n",
            "Selecting previously unselected package coinor-libosi1v5.\n",
            "Preparing to unpack .../1-coinor-libosi1v5_0.107.9+repack1-1_amd64.deb ...\n",
            "Unpacking coinor-libosi1v5 (0.107.9+repack1-1) ...\n",
            "Selecting previously unselected package coinor-libclp1.\n",
            "Preparing to unpack .../2-coinor-libclp1_1.16.11+repack1-1_amd64.deb ...\n",
            "Unpacking coinor-libclp1 (1.16.11+repack1-1) ...\n",
            "Selecting previously unselected package coinor-libcgl1.\n",
            "Preparing to unpack .../3-coinor-libcgl1_0.59.10+repack1-1_amd64.deb ...\n",
            "Unpacking coinor-libcgl1 (0.59.10+repack1-1) ...\n",
            "Selecting previously unselected package coinor-libcbc3.\n",
            "Preparing to unpack .../4-coinor-libcbc3_2.9.9+repack1-1_amd64.deb ...\n",
            "Unpacking coinor-libcbc3 (2.9.9+repack1-1) ...\n",
            "Selecting previously unselected package coinor-cbc.\n",
            "Preparing to unpack .../5-coinor-cbc_2.9.9+repack1-1_amd64.deb ...\n",
            "Unpacking coinor-cbc (2.9.9+repack1-1) ...\n",
            "Setting up coinor-libcoinutils3v5 (2.10.14+repack1-1) ...\n",
            "Setting up coinor-libosi1v5 (0.107.9+repack1-1) ...\n",
            "Setting up coinor-libclp1 (1.16.11+repack1-1) ...\n",
            "Setting up coinor-libcgl1 (0.59.10+repack1-1) ...\n",
            "Setting up coinor-libcbc3 (2.9.9+repack1-1) ...\n",
            "Setting up coinor-cbc (2.9.9+repack1-1) ...\n",
            "Processing triggers for man-db (2.8.3-2ubuntu0.1) ...\n",
            "Processing triggers for libc-bin (2.27-3ubuntu1.2) ...\n",
            "/sbin/ldconfig.real: /usr/local/lib/python3.6/dist-packages/ideep4py/lib/libmkldnn.so.0 is not a symbolic link\n",
            "\n"
          ],
          "name": "stdout"
        }
      ]
    },
    {
      "cell_type": "markdown",
      "metadata": {
        "id": "obOMloE3VNyb"
      },
      "source": [
        "Importing required libraries"
      ]
    },
    {
      "cell_type": "code",
      "metadata": {
        "id": "Bm-S8tdCVORB"
      },
      "source": [
        "import pandas as pd\n",
        "import numpy as np\n",
        "from pyomo.environ import *\n",
        "from pyomo.opt import SolverFactory\n",
        "pd.set_option('precision', 0)"
      ],
      "execution_count": 39,
      "outputs": []
    },
    {
      "cell_type": "markdown",
      "metadata": {
        "id": "c6fxLtSXVHMG"
      },
      "source": [
        "### Creating sample sudoku grid"
      ]
    },
    {
      "cell_type": "code",
      "metadata": {
        "id": "zxswuBJBOSJV"
      },
      "source": [
        "### Grid size\n",
        "N = list(range(1, 9 + 1))\n",
        "\n",
        "### Creating grid\n",
        "completeGrid = []\n",
        "\n",
        "for i in N:\n",
        "    for j in N:\n",
        "        completeGrid.append((i,j))\n",
        "        \n",
        "completeGrid = pd.DataFrame(completeGrid, columns = ['i', 'j'])\n",
        "\n",
        "### Known cell values\n",
        "data = [(1, 7, 2), (2, 2, 8), (2, 6, 7), (2, 8, 9),\n",
        "\t\t(3, 1, 6), (3, 3, 2), (3, 7, 5), (4, 2, 7),\n",
        "\t\t(4, 5, 6), (5, 4, 9), (5, 6, 1), (6, 5, 2), \n",
        "\t\t(6, 8, 4), (7, 3, 5), (7, 7, 6), (7, 9, 3),\n",
        "\t\t(8, 2, 9), (8, 4, 4), (8, 8, 7), (9, 3, 6)]\n",
        "\n",
        "data = pd.DataFrame(data, columns = ['i', 'j', 'k'])\n",
        "\n",
        "###\n",
        "finalGrid = pd.merge(completeGrid, data, how = 'left')\n",
        "finalGrid = finalGrid.fillna(0)"
      ],
      "execution_count": 32,
      "outputs": []
    },
    {
      "cell_type": "code",
      "metadata": {
        "id": "RJgJQ9X3OT1w",
        "outputId": "f555bd8e-1b88-4b5f-e516-e259910bd9da",
        "colab": {
          "base_uri": "https://localhost:8080/",
          "height": 238
        }
      },
      "source": [
        "### Observing data\n",
        "def color_red(val):\n",
        "    color = 'red' if val != 0 else 'black'\n",
        "    return 'color: %s' % color\n",
        "\n",
        "finalGrid.pivot(index = 'i', columns = 'j', values = 'k').style.applymap(color_red)"
      ],
      "execution_count": 37,
      "outputs": [
        {
          "output_type": "execute_result",
          "data": {
            "text/html": [
              "<style  type=\"text/css\" >\n",
              "#T_e2511466_2616_11eb_8d36_0242ac1c0002row0_col0,#T_e2511466_2616_11eb_8d36_0242ac1c0002row0_col1,#T_e2511466_2616_11eb_8d36_0242ac1c0002row0_col2,#T_e2511466_2616_11eb_8d36_0242ac1c0002row0_col3,#T_e2511466_2616_11eb_8d36_0242ac1c0002row0_col4,#T_e2511466_2616_11eb_8d36_0242ac1c0002row0_col5,#T_e2511466_2616_11eb_8d36_0242ac1c0002row0_col7,#T_e2511466_2616_11eb_8d36_0242ac1c0002row0_col8,#T_e2511466_2616_11eb_8d36_0242ac1c0002row1_col0,#T_e2511466_2616_11eb_8d36_0242ac1c0002row1_col2,#T_e2511466_2616_11eb_8d36_0242ac1c0002row1_col3,#T_e2511466_2616_11eb_8d36_0242ac1c0002row1_col4,#T_e2511466_2616_11eb_8d36_0242ac1c0002row1_col6,#T_e2511466_2616_11eb_8d36_0242ac1c0002row1_col8,#T_e2511466_2616_11eb_8d36_0242ac1c0002row2_col1,#T_e2511466_2616_11eb_8d36_0242ac1c0002row2_col3,#T_e2511466_2616_11eb_8d36_0242ac1c0002row2_col4,#T_e2511466_2616_11eb_8d36_0242ac1c0002row2_col5,#T_e2511466_2616_11eb_8d36_0242ac1c0002row2_col7,#T_e2511466_2616_11eb_8d36_0242ac1c0002row2_col8,#T_e2511466_2616_11eb_8d36_0242ac1c0002row3_col0,#T_e2511466_2616_11eb_8d36_0242ac1c0002row3_col2,#T_e2511466_2616_11eb_8d36_0242ac1c0002row3_col3,#T_e2511466_2616_11eb_8d36_0242ac1c0002row3_col5,#T_e2511466_2616_11eb_8d36_0242ac1c0002row3_col6,#T_e2511466_2616_11eb_8d36_0242ac1c0002row3_col7,#T_e2511466_2616_11eb_8d36_0242ac1c0002row3_col8,#T_e2511466_2616_11eb_8d36_0242ac1c0002row4_col0,#T_e2511466_2616_11eb_8d36_0242ac1c0002row4_col1,#T_e2511466_2616_11eb_8d36_0242ac1c0002row4_col2,#T_e2511466_2616_11eb_8d36_0242ac1c0002row4_col4,#T_e2511466_2616_11eb_8d36_0242ac1c0002row4_col6,#T_e2511466_2616_11eb_8d36_0242ac1c0002row4_col7,#T_e2511466_2616_11eb_8d36_0242ac1c0002row4_col8,#T_e2511466_2616_11eb_8d36_0242ac1c0002row5_col0,#T_e2511466_2616_11eb_8d36_0242ac1c0002row5_col1,#T_e2511466_2616_11eb_8d36_0242ac1c0002row5_col2,#T_e2511466_2616_11eb_8d36_0242ac1c0002row5_col3,#T_e2511466_2616_11eb_8d36_0242ac1c0002row5_col5,#T_e2511466_2616_11eb_8d36_0242ac1c0002row5_col6,#T_e2511466_2616_11eb_8d36_0242ac1c0002row5_col8,#T_e2511466_2616_11eb_8d36_0242ac1c0002row6_col0,#T_e2511466_2616_11eb_8d36_0242ac1c0002row6_col1,#T_e2511466_2616_11eb_8d36_0242ac1c0002row6_col3,#T_e2511466_2616_11eb_8d36_0242ac1c0002row6_col4,#T_e2511466_2616_11eb_8d36_0242ac1c0002row6_col5,#T_e2511466_2616_11eb_8d36_0242ac1c0002row6_col7,#T_e2511466_2616_11eb_8d36_0242ac1c0002row7_col0,#T_e2511466_2616_11eb_8d36_0242ac1c0002row7_col2,#T_e2511466_2616_11eb_8d36_0242ac1c0002row7_col4,#T_e2511466_2616_11eb_8d36_0242ac1c0002row7_col5,#T_e2511466_2616_11eb_8d36_0242ac1c0002row7_col6,#T_e2511466_2616_11eb_8d36_0242ac1c0002row7_col8,#T_e2511466_2616_11eb_8d36_0242ac1c0002row8_col0,#T_e2511466_2616_11eb_8d36_0242ac1c0002row8_col1,#T_e2511466_2616_11eb_8d36_0242ac1c0002row8_col3,#T_e2511466_2616_11eb_8d36_0242ac1c0002row8_col4,#T_e2511466_2616_11eb_8d36_0242ac1c0002row8_col5,#T_e2511466_2616_11eb_8d36_0242ac1c0002row8_col6,#T_e2511466_2616_11eb_8d36_0242ac1c0002row8_col7,#T_e2511466_2616_11eb_8d36_0242ac1c0002row8_col8{\n",
              "            color:  black;\n",
              "        }#T_e2511466_2616_11eb_8d36_0242ac1c0002row0_col6,#T_e2511466_2616_11eb_8d36_0242ac1c0002row1_col1,#T_e2511466_2616_11eb_8d36_0242ac1c0002row1_col5,#T_e2511466_2616_11eb_8d36_0242ac1c0002row1_col7,#T_e2511466_2616_11eb_8d36_0242ac1c0002row2_col0,#T_e2511466_2616_11eb_8d36_0242ac1c0002row2_col2,#T_e2511466_2616_11eb_8d36_0242ac1c0002row2_col6,#T_e2511466_2616_11eb_8d36_0242ac1c0002row3_col1,#T_e2511466_2616_11eb_8d36_0242ac1c0002row3_col4,#T_e2511466_2616_11eb_8d36_0242ac1c0002row4_col3,#T_e2511466_2616_11eb_8d36_0242ac1c0002row4_col5,#T_e2511466_2616_11eb_8d36_0242ac1c0002row5_col4,#T_e2511466_2616_11eb_8d36_0242ac1c0002row5_col7,#T_e2511466_2616_11eb_8d36_0242ac1c0002row6_col2,#T_e2511466_2616_11eb_8d36_0242ac1c0002row6_col6,#T_e2511466_2616_11eb_8d36_0242ac1c0002row6_col8,#T_e2511466_2616_11eb_8d36_0242ac1c0002row7_col1,#T_e2511466_2616_11eb_8d36_0242ac1c0002row7_col3,#T_e2511466_2616_11eb_8d36_0242ac1c0002row7_col7,#T_e2511466_2616_11eb_8d36_0242ac1c0002row8_col2{\n",
              "            color:  red;\n",
              "        }</style><table id=\"T_e2511466_2616_11eb_8d36_0242ac1c0002\" ><thead>    <tr>        <th class=\"index_name level0\" >j</th>        <th class=\"col_heading level0 col0\" >1</th>        <th class=\"col_heading level0 col1\" >2</th>        <th class=\"col_heading level0 col2\" >3</th>        <th class=\"col_heading level0 col3\" >4</th>        <th class=\"col_heading level0 col4\" >5</th>        <th class=\"col_heading level0 col5\" >6</th>        <th class=\"col_heading level0 col6\" >7</th>        <th class=\"col_heading level0 col7\" >8</th>        <th class=\"col_heading level0 col8\" >9</th>    </tr>    <tr>        <th class=\"index_name level0\" >i</th>        <th class=\"blank\" ></th>        <th class=\"blank\" ></th>        <th class=\"blank\" ></th>        <th class=\"blank\" ></th>        <th class=\"blank\" ></th>        <th class=\"blank\" ></th>        <th class=\"blank\" ></th>        <th class=\"blank\" ></th>        <th class=\"blank\" ></th>    </tr></thead><tbody>\n",
              "                <tr>\n",
              "                        <th id=\"T_e2511466_2616_11eb_8d36_0242ac1c0002level0_row0\" class=\"row_heading level0 row0\" >1</th>\n",
              "                        <td id=\"T_e2511466_2616_11eb_8d36_0242ac1c0002row0_col0\" class=\"data row0 col0\" >0</td>\n",
              "                        <td id=\"T_e2511466_2616_11eb_8d36_0242ac1c0002row0_col1\" class=\"data row0 col1\" >0</td>\n",
              "                        <td id=\"T_e2511466_2616_11eb_8d36_0242ac1c0002row0_col2\" class=\"data row0 col2\" >0</td>\n",
              "                        <td id=\"T_e2511466_2616_11eb_8d36_0242ac1c0002row0_col3\" class=\"data row0 col3\" >0</td>\n",
              "                        <td id=\"T_e2511466_2616_11eb_8d36_0242ac1c0002row0_col4\" class=\"data row0 col4\" >0</td>\n",
              "                        <td id=\"T_e2511466_2616_11eb_8d36_0242ac1c0002row0_col5\" class=\"data row0 col5\" >0</td>\n",
              "                        <td id=\"T_e2511466_2616_11eb_8d36_0242ac1c0002row0_col6\" class=\"data row0 col6\" >2</td>\n",
              "                        <td id=\"T_e2511466_2616_11eb_8d36_0242ac1c0002row0_col7\" class=\"data row0 col7\" >0</td>\n",
              "                        <td id=\"T_e2511466_2616_11eb_8d36_0242ac1c0002row0_col8\" class=\"data row0 col8\" >0</td>\n",
              "            </tr>\n",
              "            <tr>\n",
              "                        <th id=\"T_e2511466_2616_11eb_8d36_0242ac1c0002level0_row1\" class=\"row_heading level0 row1\" >2</th>\n",
              "                        <td id=\"T_e2511466_2616_11eb_8d36_0242ac1c0002row1_col0\" class=\"data row1 col0\" >0</td>\n",
              "                        <td id=\"T_e2511466_2616_11eb_8d36_0242ac1c0002row1_col1\" class=\"data row1 col1\" >8</td>\n",
              "                        <td id=\"T_e2511466_2616_11eb_8d36_0242ac1c0002row1_col2\" class=\"data row1 col2\" >0</td>\n",
              "                        <td id=\"T_e2511466_2616_11eb_8d36_0242ac1c0002row1_col3\" class=\"data row1 col3\" >0</td>\n",
              "                        <td id=\"T_e2511466_2616_11eb_8d36_0242ac1c0002row1_col4\" class=\"data row1 col4\" >0</td>\n",
              "                        <td id=\"T_e2511466_2616_11eb_8d36_0242ac1c0002row1_col5\" class=\"data row1 col5\" >7</td>\n",
              "                        <td id=\"T_e2511466_2616_11eb_8d36_0242ac1c0002row1_col6\" class=\"data row1 col6\" >0</td>\n",
              "                        <td id=\"T_e2511466_2616_11eb_8d36_0242ac1c0002row1_col7\" class=\"data row1 col7\" >9</td>\n",
              "                        <td id=\"T_e2511466_2616_11eb_8d36_0242ac1c0002row1_col8\" class=\"data row1 col8\" >0</td>\n",
              "            </tr>\n",
              "            <tr>\n",
              "                        <th id=\"T_e2511466_2616_11eb_8d36_0242ac1c0002level0_row2\" class=\"row_heading level0 row2\" >3</th>\n",
              "                        <td id=\"T_e2511466_2616_11eb_8d36_0242ac1c0002row2_col0\" class=\"data row2 col0\" >6</td>\n",
              "                        <td id=\"T_e2511466_2616_11eb_8d36_0242ac1c0002row2_col1\" class=\"data row2 col1\" >0</td>\n",
              "                        <td id=\"T_e2511466_2616_11eb_8d36_0242ac1c0002row2_col2\" class=\"data row2 col2\" >2</td>\n",
              "                        <td id=\"T_e2511466_2616_11eb_8d36_0242ac1c0002row2_col3\" class=\"data row2 col3\" >0</td>\n",
              "                        <td id=\"T_e2511466_2616_11eb_8d36_0242ac1c0002row2_col4\" class=\"data row2 col4\" >0</td>\n",
              "                        <td id=\"T_e2511466_2616_11eb_8d36_0242ac1c0002row2_col5\" class=\"data row2 col5\" >0</td>\n",
              "                        <td id=\"T_e2511466_2616_11eb_8d36_0242ac1c0002row2_col6\" class=\"data row2 col6\" >5</td>\n",
              "                        <td id=\"T_e2511466_2616_11eb_8d36_0242ac1c0002row2_col7\" class=\"data row2 col7\" >0</td>\n",
              "                        <td id=\"T_e2511466_2616_11eb_8d36_0242ac1c0002row2_col8\" class=\"data row2 col8\" >0</td>\n",
              "            </tr>\n",
              "            <tr>\n",
              "                        <th id=\"T_e2511466_2616_11eb_8d36_0242ac1c0002level0_row3\" class=\"row_heading level0 row3\" >4</th>\n",
              "                        <td id=\"T_e2511466_2616_11eb_8d36_0242ac1c0002row3_col0\" class=\"data row3 col0\" >0</td>\n",
              "                        <td id=\"T_e2511466_2616_11eb_8d36_0242ac1c0002row3_col1\" class=\"data row3 col1\" >7</td>\n",
              "                        <td id=\"T_e2511466_2616_11eb_8d36_0242ac1c0002row3_col2\" class=\"data row3 col2\" >0</td>\n",
              "                        <td id=\"T_e2511466_2616_11eb_8d36_0242ac1c0002row3_col3\" class=\"data row3 col3\" >0</td>\n",
              "                        <td id=\"T_e2511466_2616_11eb_8d36_0242ac1c0002row3_col4\" class=\"data row3 col4\" >6</td>\n",
              "                        <td id=\"T_e2511466_2616_11eb_8d36_0242ac1c0002row3_col5\" class=\"data row3 col5\" >0</td>\n",
              "                        <td id=\"T_e2511466_2616_11eb_8d36_0242ac1c0002row3_col6\" class=\"data row3 col6\" >0</td>\n",
              "                        <td id=\"T_e2511466_2616_11eb_8d36_0242ac1c0002row3_col7\" class=\"data row3 col7\" >0</td>\n",
              "                        <td id=\"T_e2511466_2616_11eb_8d36_0242ac1c0002row3_col8\" class=\"data row3 col8\" >0</td>\n",
              "            </tr>\n",
              "            <tr>\n",
              "                        <th id=\"T_e2511466_2616_11eb_8d36_0242ac1c0002level0_row4\" class=\"row_heading level0 row4\" >5</th>\n",
              "                        <td id=\"T_e2511466_2616_11eb_8d36_0242ac1c0002row4_col0\" class=\"data row4 col0\" >0</td>\n",
              "                        <td id=\"T_e2511466_2616_11eb_8d36_0242ac1c0002row4_col1\" class=\"data row4 col1\" >0</td>\n",
              "                        <td id=\"T_e2511466_2616_11eb_8d36_0242ac1c0002row4_col2\" class=\"data row4 col2\" >0</td>\n",
              "                        <td id=\"T_e2511466_2616_11eb_8d36_0242ac1c0002row4_col3\" class=\"data row4 col3\" >9</td>\n",
              "                        <td id=\"T_e2511466_2616_11eb_8d36_0242ac1c0002row4_col4\" class=\"data row4 col4\" >0</td>\n",
              "                        <td id=\"T_e2511466_2616_11eb_8d36_0242ac1c0002row4_col5\" class=\"data row4 col5\" >1</td>\n",
              "                        <td id=\"T_e2511466_2616_11eb_8d36_0242ac1c0002row4_col6\" class=\"data row4 col6\" >0</td>\n",
              "                        <td id=\"T_e2511466_2616_11eb_8d36_0242ac1c0002row4_col7\" class=\"data row4 col7\" >0</td>\n",
              "                        <td id=\"T_e2511466_2616_11eb_8d36_0242ac1c0002row4_col8\" class=\"data row4 col8\" >0</td>\n",
              "            </tr>\n",
              "            <tr>\n",
              "                        <th id=\"T_e2511466_2616_11eb_8d36_0242ac1c0002level0_row5\" class=\"row_heading level0 row5\" >6</th>\n",
              "                        <td id=\"T_e2511466_2616_11eb_8d36_0242ac1c0002row5_col0\" class=\"data row5 col0\" >0</td>\n",
              "                        <td id=\"T_e2511466_2616_11eb_8d36_0242ac1c0002row5_col1\" class=\"data row5 col1\" >0</td>\n",
              "                        <td id=\"T_e2511466_2616_11eb_8d36_0242ac1c0002row5_col2\" class=\"data row5 col2\" >0</td>\n",
              "                        <td id=\"T_e2511466_2616_11eb_8d36_0242ac1c0002row5_col3\" class=\"data row5 col3\" >0</td>\n",
              "                        <td id=\"T_e2511466_2616_11eb_8d36_0242ac1c0002row5_col4\" class=\"data row5 col4\" >2</td>\n",
              "                        <td id=\"T_e2511466_2616_11eb_8d36_0242ac1c0002row5_col5\" class=\"data row5 col5\" >0</td>\n",
              "                        <td id=\"T_e2511466_2616_11eb_8d36_0242ac1c0002row5_col6\" class=\"data row5 col6\" >0</td>\n",
              "                        <td id=\"T_e2511466_2616_11eb_8d36_0242ac1c0002row5_col7\" class=\"data row5 col7\" >4</td>\n",
              "                        <td id=\"T_e2511466_2616_11eb_8d36_0242ac1c0002row5_col8\" class=\"data row5 col8\" >0</td>\n",
              "            </tr>\n",
              "            <tr>\n",
              "                        <th id=\"T_e2511466_2616_11eb_8d36_0242ac1c0002level0_row6\" class=\"row_heading level0 row6\" >7</th>\n",
              "                        <td id=\"T_e2511466_2616_11eb_8d36_0242ac1c0002row6_col0\" class=\"data row6 col0\" >0</td>\n",
              "                        <td id=\"T_e2511466_2616_11eb_8d36_0242ac1c0002row6_col1\" class=\"data row6 col1\" >0</td>\n",
              "                        <td id=\"T_e2511466_2616_11eb_8d36_0242ac1c0002row6_col2\" class=\"data row6 col2\" >5</td>\n",
              "                        <td id=\"T_e2511466_2616_11eb_8d36_0242ac1c0002row6_col3\" class=\"data row6 col3\" >0</td>\n",
              "                        <td id=\"T_e2511466_2616_11eb_8d36_0242ac1c0002row6_col4\" class=\"data row6 col4\" >0</td>\n",
              "                        <td id=\"T_e2511466_2616_11eb_8d36_0242ac1c0002row6_col5\" class=\"data row6 col5\" >0</td>\n",
              "                        <td id=\"T_e2511466_2616_11eb_8d36_0242ac1c0002row6_col6\" class=\"data row6 col6\" >6</td>\n",
              "                        <td id=\"T_e2511466_2616_11eb_8d36_0242ac1c0002row6_col7\" class=\"data row6 col7\" >0</td>\n",
              "                        <td id=\"T_e2511466_2616_11eb_8d36_0242ac1c0002row6_col8\" class=\"data row6 col8\" >3</td>\n",
              "            </tr>\n",
              "            <tr>\n",
              "                        <th id=\"T_e2511466_2616_11eb_8d36_0242ac1c0002level0_row7\" class=\"row_heading level0 row7\" >8</th>\n",
              "                        <td id=\"T_e2511466_2616_11eb_8d36_0242ac1c0002row7_col0\" class=\"data row7 col0\" >0</td>\n",
              "                        <td id=\"T_e2511466_2616_11eb_8d36_0242ac1c0002row7_col1\" class=\"data row7 col1\" >9</td>\n",
              "                        <td id=\"T_e2511466_2616_11eb_8d36_0242ac1c0002row7_col2\" class=\"data row7 col2\" >0</td>\n",
              "                        <td id=\"T_e2511466_2616_11eb_8d36_0242ac1c0002row7_col3\" class=\"data row7 col3\" >4</td>\n",
              "                        <td id=\"T_e2511466_2616_11eb_8d36_0242ac1c0002row7_col4\" class=\"data row7 col4\" >0</td>\n",
              "                        <td id=\"T_e2511466_2616_11eb_8d36_0242ac1c0002row7_col5\" class=\"data row7 col5\" >0</td>\n",
              "                        <td id=\"T_e2511466_2616_11eb_8d36_0242ac1c0002row7_col6\" class=\"data row7 col6\" >0</td>\n",
              "                        <td id=\"T_e2511466_2616_11eb_8d36_0242ac1c0002row7_col7\" class=\"data row7 col7\" >7</td>\n",
              "                        <td id=\"T_e2511466_2616_11eb_8d36_0242ac1c0002row7_col8\" class=\"data row7 col8\" >0</td>\n",
              "            </tr>\n",
              "            <tr>\n",
              "                        <th id=\"T_e2511466_2616_11eb_8d36_0242ac1c0002level0_row8\" class=\"row_heading level0 row8\" >9</th>\n",
              "                        <td id=\"T_e2511466_2616_11eb_8d36_0242ac1c0002row8_col0\" class=\"data row8 col0\" >0</td>\n",
              "                        <td id=\"T_e2511466_2616_11eb_8d36_0242ac1c0002row8_col1\" class=\"data row8 col1\" >0</td>\n",
              "                        <td id=\"T_e2511466_2616_11eb_8d36_0242ac1c0002row8_col2\" class=\"data row8 col2\" >6</td>\n",
              "                        <td id=\"T_e2511466_2616_11eb_8d36_0242ac1c0002row8_col3\" class=\"data row8 col3\" >0</td>\n",
              "                        <td id=\"T_e2511466_2616_11eb_8d36_0242ac1c0002row8_col4\" class=\"data row8 col4\" >0</td>\n",
              "                        <td id=\"T_e2511466_2616_11eb_8d36_0242ac1c0002row8_col5\" class=\"data row8 col5\" >0</td>\n",
              "                        <td id=\"T_e2511466_2616_11eb_8d36_0242ac1c0002row8_col6\" class=\"data row8 col6\" >0</td>\n",
              "                        <td id=\"T_e2511466_2616_11eb_8d36_0242ac1c0002row8_col7\" class=\"data row8 col7\" >0</td>\n",
              "                        <td id=\"T_e2511466_2616_11eb_8d36_0242ac1c0002row8_col8\" class=\"data row8 col8\" >0</td>\n",
              "            </tr>\n",
              "    </tbody></table>"
            ],
            "text/plain": [
              "<pandas.io.formats.style.Styler at 0x7f2967f5eb38>"
            ]
          },
          "metadata": {
            "tags": []
          },
          "execution_count": 37
        }
      ]
    },
    {
      "cell_type": "markdown",
      "metadata": {
        "id": "kW_h3vz3Vcdd"
      },
      "source": [
        "### Model and constraint definition"
      ]
    },
    {
      "cell_type": "code",
      "metadata": {
        "id": "dq4PN1ZrOd7V",
        "outputId": "7b3cb919-6205-40d1-ebca-7444d2293fe0",
        "colab": {
          "base_uri": "https://localhost:8080/"
        }
      },
      "source": [
        "### Defining model\n",
        "model = ConcreteModel()\n",
        "model.X = Var(N, N, N, within = Binary)\n",
        "\n",
        "### Definding constraints\n",
        "\n",
        "## Row constraint\n",
        "model.row_constr = ConstraintList()\n",
        "for i in N:\n",
        "    for k in N:\n",
        "        model.row_constr.add(1 == sum(model.X[i, j, k] for j in N))\n",
        "        \n",
        "## Column constraint\n",
        "model.col_constr = ConstraintList()\n",
        "for j in N:\n",
        "    for k in N:\n",
        "        model.col_constr.add(1 == sum(model.X[i, j, k] for i in N))\n",
        "        \n",
        "## Block constraint\n",
        "model.block_constr = ConstraintList()\n",
        "for i in list(range(1, 9, 3)):\n",
        "    for j in list(range(1, 9, 3)):\n",
        "        for k in N:\n",
        "            model.block_constr.add(1 == sum(model.X[p, q, k] for p in range(i, i+3) for q in range(j, j+3)))\n",
        "            \n",
        "## Constraint for assigning all cells\n",
        "model.allCell_constr = ConstraintList()\n",
        "for i in N:\n",
        "    for j in N:\n",
        "        model.allCell_constr.add(1 == sum(model.X[i, j, k] for k in N))\n",
        "        \n",
        "## Constraint for assigning known cells\n",
        "model.knownCell_constr = ConstraintList()\n",
        "for i, j, k in zip(finalGrid['i'], finalGrid['j'], finalGrid['k']):\n",
        "    if k != 0:\n",
        "        #print(k)\n",
        "        model.knownCell_constr.add(1 == model.X[i,j,k])\n",
        "        \n",
        "## Defining objective function\n",
        "model.Obj = Objective(expr = 1)\n",
        "\n",
        "## Solving \n",
        "opt = SolverFactory('cbc', executable='/usr/bin/cbc')\n",
        "opt.solve(model)"
      ],
      "execution_count": 26,
      "outputs": [
        {
          "output_type": "stream",
          "text": [
            "WARNING: Constant objective detected, replacing with a placeholder to prevent\n",
            "    solver failure.\n"
          ],
          "name": "stdout"
        },
        {
          "output_type": "execute_result",
          "data": {
            "text/plain": [
              "{'Problem': [{'Name': 'unknown', 'Lower bound': 1.0, 'Upper bound': 1.0, 'Number of objectives': 1, 'Number of constraints': 172, 'Number of variables': 182, 'Number of binary variables': 729, 'Number of integer variables': 729, 'Number of nonzeros': 0, 'Sense': 'minimize'}], 'Solver': [{'Status': 'ok', 'User time': -1.0, 'System time': 0.03, 'Wallclock time': 0.03, 'Termination condition': 'optimal', 'Termination message': 'Model was solved to optimality (subject to tolerances), and an optimal solution is available.', 'Statistics': {'Branch and bound': {'Number of bounded subproblems': 0, 'Number of created subproblems': 0}, 'Black box': {'Number of iterations': 0}}, 'Error rc': 0, 'Time': 0.04693889617919922}], 'Solution': [OrderedDict([('number of solutions', 0), ('number of solutions displayed', 0)])]}"
            ]
          },
          "metadata": {
            "tags": []
          },
          "execution_count": 26
        }
      ]
    },
    {
      "cell_type": "markdown",
      "metadata": {
        "id": "OVQtN0-ZVx1I"
      },
      "source": [
        "### Running solver"
      ]
    },
    {
      "cell_type": "code",
      "metadata": {
        "id": "DnGTlIbTOzL4"
      },
      "source": [
        "solutionDf = pd.DataFrame({'i': [i[0] for i in model.X.iterkeys()], 'j': [i[1] for i in model.X.iterkeys()], 'k': [i[2] for i in model.X.iterkeys()], 'assignment': [i.value for i in model.X.itervalues()]})\n",
        "solutionDf = solutionDf[solutionDf['assignment'] == 1]"
      ],
      "execution_count": 27,
      "outputs": []
    },
    {
      "cell_type": "code",
      "metadata": {
        "id": "I9KFI7UsQkIe",
        "outputId": "316c153a-2d4f-48fc-8de2-68e8b4b52b27",
        "colab": {
          "base_uri": "https://localhost:8080/",
          "height": 343
        }
      },
      "source": [
        "solutionDf.pivot(index = 'i', columns = 'j', values = 'k')"
      ],
      "execution_count": 28,
      "outputs": [
        {
          "output_type": "execute_result",
          "data": {
            "text/html": [
              "<div>\n",
              "<style scoped>\n",
              "    .dataframe tbody tr th:only-of-type {\n",
              "        vertical-align: middle;\n",
              "    }\n",
              "\n",
              "    .dataframe tbody tr th {\n",
              "        vertical-align: top;\n",
              "    }\n",
              "\n",
              "    .dataframe thead th {\n",
              "        text-align: right;\n",
              "    }\n",
              "</style>\n",
              "<table border=\"1\" class=\"dataframe\">\n",
              "  <thead>\n",
              "    <tr style=\"text-align: right;\">\n",
              "      <th>j</th>\n",
              "      <th>1</th>\n",
              "      <th>2</th>\n",
              "      <th>3</th>\n",
              "      <th>4</th>\n",
              "      <th>5</th>\n",
              "      <th>6</th>\n",
              "      <th>7</th>\n",
              "      <th>8</th>\n",
              "      <th>9</th>\n",
              "    </tr>\n",
              "    <tr>\n",
              "      <th>i</th>\n",
              "      <th></th>\n",
              "      <th></th>\n",
              "      <th></th>\n",
              "      <th></th>\n",
              "      <th></th>\n",
              "      <th></th>\n",
              "      <th></th>\n",
              "      <th></th>\n",
              "      <th></th>\n",
              "    </tr>\n",
              "  </thead>\n",
              "  <tbody>\n",
              "    <tr>\n",
              "      <th>1</th>\n",
              "      <td>9</td>\n",
              "      <td>5</td>\n",
              "      <td>7</td>\n",
              "      <td>6</td>\n",
              "      <td>1</td>\n",
              "      <td>3</td>\n",
              "      <td>2</td>\n",
              "      <td>8</td>\n",
              "      <td>4</td>\n",
              "    </tr>\n",
              "    <tr>\n",
              "      <th>2</th>\n",
              "      <td>4</td>\n",
              "      <td>8</td>\n",
              "      <td>3</td>\n",
              "      <td>2</td>\n",
              "      <td>5</td>\n",
              "      <td>7</td>\n",
              "      <td>1</td>\n",
              "      <td>9</td>\n",
              "      <td>6</td>\n",
              "    </tr>\n",
              "    <tr>\n",
              "      <th>3</th>\n",
              "      <td>6</td>\n",
              "      <td>1</td>\n",
              "      <td>2</td>\n",
              "      <td>8</td>\n",
              "      <td>4</td>\n",
              "      <td>9</td>\n",
              "      <td>5</td>\n",
              "      <td>3</td>\n",
              "      <td>7</td>\n",
              "    </tr>\n",
              "    <tr>\n",
              "      <th>4</th>\n",
              "      <td>1</td>\n",
              "      <td>7</td>\n",
              "      <td>8</td>\n",
              "      <td>3</td>\n",
              "      <td>6</td>\n",
              "      <td>4</td>\n",
              "      <td>9</td>\n",
              "      <td>5</td>\n",
              "      <td>2</td>\n",
              "    </tr>\n",
              "    <tr>\n",
              "      <th>5</th>\n",
              "      <td>5</td>\n",
              "      <td>2</td>\n",
              "      <td>4</td>\n",
              "      <td>9</td>\n",
              "      <td>7</td>\n",
              "      <td>1</td>\n",
              "      <td>3</td>\n",
              "      <td>6</td>\n",
              "      <td>8</td>\n",
              "    </tr>\n",
              "    <tr>\n",
              "      <th>6</th>\n",
              "      <td>3</td>\n",
              "      <td>6</td>\n",
              "      <td>9</td>\n",
              "      <td>5</td>\n",
              "      <td>2</td>\n",
              "      <td>8</td>\n",
              "      <td>7</td>\n",
              "      <td>4</td>\n",
              "      <td>1</td>\n",
              "    </tr>\n",
              "    <tr>\n",
              "      <th>7</th>\n",
              "      <td>8</td>\n",
              "      <td>4</td>\n",
              "      <td>5</td>\n",
              "      <td>7</td>\n",
              "      <td>9</td>\n",
              "      <td>2</td>\n",
              "      <td>6</td>\n",
              "      <td>1</td>\n",
              "      <td>3</td>\n",
              "    </tr>\n",
              "    <tr>\n",
              "      <th>8</th>\n",
              "      <td>2</td>\n",
              "      <td>9</td>\n",
              "      <td>1</td>\n",
              "      <td>4</td>\n",
              "      <td>3</td>\n",
              "      <td>6</td>\n",
              "      <td>8</td>\n",
              "      <td>7</td>\n",
              "      <td>5</td>\n",
              "    </tr>\n",
              "    <tr>\n",
              "      <th>9</th>\n",
              "      <td>7</td>\n",
              "      <td>3</td>\n",
              "      <td>6</td>\n",
              "      <td>1</td>\n",
              "      <td>8</td>\n",
              "      <td>5</td>\n",
              "      <td>4</td>\n",
              "      <td>2</td>\n",
              "      <td>9</td>\n",
              "    </tr>\n",
              "  </tbody>\n",
              "</table>\n",
              "</div>"
            ],
            "text/plain": [
              "j  1  2  3  4  5  6  7  8  9\n",
              "i                           \n",
              "1  9  5  7  6  1  3  2  8  4\n",
              "2  4  8  3  2  5  7  1  9  6\n",
              "3  6  1  2  8  4  9  5  3  7\n",
              "4  1  7  8  3  6  4  9  5  2\n",
              "5  5  2  4  9  7  1  3  6  8\n",
              "6  3  6  9  5  2  8  7  4  1\n",
              "7  8  4  5  7  9  2  6  1  3\n",
              "8  2  9  1  4  3  6  8  7  5\n",
              "9  7  3  6  1  8  5  4  2  9"
            ]
          },
          "metadata": {
            "tags": []
          },
          "execution_count": 28
        }
      ]
    },
    {
      "cell_type": "code",
      "metadata": {
        "id": "bsPEPnVgQn_Q"
      },
      "source": [
        ""
      ],
      "execution_count": null,
      "outputs": []
    }
  ]
}