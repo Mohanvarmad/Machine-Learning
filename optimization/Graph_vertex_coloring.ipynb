{
  "nbformat": 4,
  "nbformat_minor": 0,
  "metadata": {
    "colab": {
      "name": "Graph vertex coloring.ipynb",
      "provenance": [],
      "collapsed_sections": [],
      "authorship_tag": "ABX9TyMc7R437EQKm3MSCwHEitVV",
      "include_colab_link": true
    },
    "kernelspec": {
      "name": "python3",
      "display_name": "Python 3"
    }
  },
  "cells": [
    {
      "cell_type": "markdown",
      "metadata": {
        "id": "view-in-github",
        "colab_type": "text"
      },
      "source": [
        "<a href=\"https://colab.research.google.com/github/Mohanvarmad/Machine-Learning/blob/master/optimization/Graph_vertex_coloring.ipynb\" target=\"_parent\"><img src=\"https://colab.research.google.com/assets/colab-badge.svg\" alt=\"Open In Colab\"/></a>"
      ]
    },
    {
      "cell_type": "markdown",
      "metadata": {
        "id": "6n_fafipkBHG"
      },
      "source": [
        "### Importing required libraries"
      ]
    },
    {
      "cell_type": "code",
      "metadata": {
        "id": "anf5DlKhlluU",
        "outputId": "2b9cf8b0-0f0c-4845-8351-38d47335dd50",
        "colab": {
          "base_uri": "https://localhost:8080/"
        }
      },
      "source": [
        "!pip install pyomo"
      ],
      "execution_count": null,
      "outputs": [
        {
          "output_type": "stream",
          "text": [
            "Collecting pyomo\n",
            "\u001b[?25l  Downloading https://files.pythonhosted.org/packages/db/6f/790085bfe030595bf45cfa5f0aede43fc7947b05504ef96fa9d4d22aff79/Pyomo-5.7.1-cp36-cp36m-manylinux2010_x86_64.whl (9.4MB)\n",
            "\u001b[K     |████████████████████████████████| 9.4MB 5.4MB/s \n",
            "\u001b[?25hCollecting ply\n",
            "\u001b[?25l  Downloading https://files.pythonhosted.org/packages/a3/58/35da89ee790598a0700ea49b2a66594140f44dec458c07e8e3d4979137fc/ply-3.11-py2.py3-none-any.whl (49kB)\n",
            "\u001b[K     |████████████████████████████████| 51kB 6.6MB/s \n",
            "\u001b[?25hRequirement already satisfied: six>=1.4 in /usr/local/lib/python3.6/dist-packages (from pyomo) (1.15.0)\n",
            "Collecting PyUtilib>=6.0\n",
            "\u001b[?25l  Downloading https://files.pythonhosted.org/packages/e1/e7/c3e5994b4e5c90280b5c14ffef409875ec5436d1d0d9f8585794993a7d77/PyUtilib-6.0.0-py2.py3-none-any.whl (254kB)\n",
            "\u001b[K     |████████████████████████████████| 256kB 51.2MB/s \n",
            "\u001b[?25hCollecting nose\n",
            "\u001b[?25l  Downloading https://files.pythonhosted.org/packages/15/d8/dd071918c040f50fa1cf80da16423af51ff8ce4a0f2399b7bf8de45ac3d9/nose-1.3.7-py3-none-any.whl (154kB)\n",
            "\u001b[K     |████████████████████████████████| 163kB 49.4MB/s \n",
            "\u001b[?25hInstalling collected packages: ply, nose, PyUtilib, pyomo\n",
            "Successfully installed PyUtilib-6.0.0 nose-1.3.7 ply-3.11 pyomo-5.7.1\n"
          ],
          "name": "stdout"
        }
      ]
    },
    {
      "cell_type": "code",
      "metadata": {
        "id": "QSUgv1IeRfqy",
        "outputId": "ea88c147-00d8-4063-fca1-5bde5043527e",
        "colab": {
          "base_uri": "https://localhost:8080/"
        }
      },
      "source": [
        "!apt-get install -y -qq coinor-cbc"
      ],
      "execution_count": null,
      "outputs": [
        {
          "output_type": "stream",
          "text": [
            "Selecting previously unselected package coinor-libcoinutils3v5.\n",
            "(Reading database ... 144786 files and directories currently installed.)\n",
            "Preparing to unpack .../0-coinor-libcoinutils3v5_2.10.14+repack1-1_amd64.deb ...\n",
            "Unpacking coinor-libcoinutils3v5 (2.10.14+repack1-1) ...\n",
            "Selecting previously unselected package coinor-libosi1v5.\n",
            "Preparing to unpack .../1-coinor-libosi1v5_0.107.9+repack1-1_amd64.deb ...\n",
            "Unpacking coinor-libosi1v5 (0.107.9+repack1-1) ...\n",
            "Selecting previously unselected package coinor-libclp1.\n",
            "Preparing to unpack .../2-coinor-libclp1_1.16.11+repack1-1_amd64.deb ...\n",
            "Unpacking coinor-libclp1 (1.16.11+repack1-1) ...\n",
            "Selecting previously unselected package coinor-libcgl1.\n",
            "Preparing to unpack .../3-coinor-libcgl1_0.59.10+repack1-1_amd64.deb ...\n",
            "Unpacking coinor-libcgl1 (0.59.10+repack1-1) ...\n",
            "Selecting previously unselected package coinor-libcbc3.\n",
            "Preparing to unpack .../4-coinor-libcbc3_2.9.9+repack1-1_amd64.deb ...\n",
            "Unpacking coinor-libcbc3 (2.9.9+repack1-1) ...\n",
            "Selecting previously unselected package coinor-cbc.\n",
            "Preparing to unpack .../5-coinor-cbc_2.9.9+repack1-1_amd64.deb ...\n",
            "Unpacking coinor-cbc (2.9.9+repack1-1) ...\n",
            "Setting up coinor-libcoinutils3v5 (2.10.14+repack1-1) ...\n",
            "Setting up coinor-libosi1v5 (0.107.9+repack1-1) ...\n",
            "Setting up coinor-libclp1 (1.16.11+repack1-1) ...\n",
            "Setting up coinor-libcgl1 (0.59.10+repack1-1) ...\n",
            "Setting up coinor-libcbc3 (2.9.9+repack1-1) ...\n",
            "Setting up coinor-cbc (2.9.9+repack1-1) ...\n",
            "Processing triggers for man-db (2.8.3-2ubuntu0.1) ...\n",
            "Processing triggers for libc-bin (2.27-3ubuntu1.2) ...\n",
            "/sbin/ldconfig.real: /usr/local/lib/python3.6/dist-packages/ideep4py/lib/libmkldnn.so.0 is not a symbolic link\n",
            "\n"
          ],
          "name": "stdout"
        }
      ]
    },
    {
      "cell_type": "code",
      "metadata": {
        "id": "y7aTUW4uldHY"
      },
      "source": [
        "import pandas as pd\n",
        "import numpy as np\n",
        "from pyomo.environ import *\n",
        "from pyomo.opt import SolverFactory"
      ],
      "execution_count": null,
      "outputs": []
    },
    {
      "cell_type": "markdown",
      "metadata": {
        "id": "mGcKIBZtl1Rl"
      },
      "source": [
        "### Creating sample scenario for graph coloring"
      ]
    },
    {
      "cell_type": "markdown",
      "metadata": {
        "id": "zFZO6vSald1s"
      },
      "source": [
        "![Vertex coloring example.JPG](data:image/jpeg;base64,/9j/4AAQSkZJRgABAQEAeAB4AAD/4RDcRXhpZgAATU0AKgAAAAgABAE7AAIAAAAGAAAISodpAAQAAAABAAAIUJydAAEAAAAMAAAQyOocAAcAAAgMAAAAPgAAAAAc6gAAAAgAAAAAAAAAAAAAAAAAAAAAAAAAAAAAAAAAAAAAAAAAAAAAAAAAAAAAAAAAAAAAAAAAAAAAAAAAAAAAAAAAAAAAAAAAAAAAAAAAAAAAAAAAAAAAAAAAAAAAAAAAAAAAAAAAAAAAAAAAAAAAAAAAAAAAAAAAAAAAAAAAAAAAAAAAAAAAAAAAAAAAAAAAAAAAAAAAAAAAAAAAAAAAAAAAAAAAAAAAAAAAAAAAAAAAAAAAAAAAAAAAAAAAAAAAAAAAAAAAAAAAAAAAAAAAAAAAAAAAAAAAAAAAAAAAAAAAAAAAAAAAAAAAAAAAAAAAAAAAAAAAAAAAAAAAAAAAAAAAAAAAAAAAAAAAAAAAAAAAAAAAAAAAAAAAAAAAAAAAAAAAAAAAAAAAAAAAAAAAAAAAAAAAAAAAAAAAAAAAAAAAAAAAAAAAAAAAAAAAAAAAAAAAAAAAAAAAAAAAAAAAAAAAAAAAAAAAAAAAAAAAAAAAAAAAAAAAAAAAAAAAAAAAAAAAAAAAAAAAAAAAAAAAAAAAAAAAAAAAAAAAAAAAAAAAAAAAAAAAAAAAAAAAAAAAAAAAAAAAAAAAAAAAAAAAAAAAAAAAAAAAAAAAAAAAAAAAAAAAAAAAAAAAAAAAAAAAAAAAAAAAAAAAAAAAAAAAAAAAAAAAAAAAAAAAAAAAAAAAAAAAAAAAAAAAAAAAAAAAAAAAAAAAAAAAAAAAAAAAAAAAAAAAAAAAAAAAAAAAAAAAAAAAAAAAAAAAAAAAAAAAAAAAAAAAAAAAAAAAAAAAAAAAAAAAAAAAAAAAAAAAAAAAAAAAAAAAAAAAAAAAAAAAAAAAAAAAAAAAAAAAAAAAAAAAAAAAAAAAAAAAAAAAAAAAAAAAAAAAAAAAAAAAAAAAAAAAAAAAAAAAAAAAAAAAAAAAAAAAAAAAAAAAAAAAAAAAAAAAAAAAAAAAAAAAAAAAAAAAAAAAAAAAAAAAAAAAAAAAAAAAAAAAAAAAAAAAAAAAAAAAAAAAAAAAAAAAAAAAAAAAAAAAAAAAAAAAAAAAAAAAAAAAAAAAAAAAAAAAAAAAAAAAAAAAAAAAAAAAAAAAAAAAAAAAAAAAAAAAAAAAAAAAAAAAAAAAAAAAAAAAAAAAAAAAAAAAAAAAAAAAAAAAAAAAAAAAAAAAAAAAAAAAAAAAAAAAAAAAAAAAAAAAAAAAAAAAAAAAAAAAAAAAAAAAAAAAAAAAAAAAAAAAAAAAAAAAAAAAAAAAAAAAAAAAAAAAAAAAAAAAAAAAAAAAAAAAAAAAAAAAAAAAAAAAAAAAAAAAAAAAAAAAAAAAAAAAAAAAAAAAAAAAAAAAAAAAAAAAAAAAAAAAAAAAAAAAAAAAAAAAAAAAAAAAAAAAAAAAAAAAAAAAAAAAAAAAAAAAAAAAAAAAAAAAAAAAAAAAAAAAAAAAAAAAAAAAAAAAAAAAAAAAAAAAAAAAAAAAAAAAAAAAAAAAAAAAAAAAAAAAAAAAAAAAAAAAAAAAAAAAAAAAAAAAAAAAAAAAAAAAAAAAAAAAAAAAAAAAAAAAAAAAAAAAAAAAAAAAAAAAAAAAAAAAAAAAAAAAAAAAAAAAAAAAAAAAAAAAAAAAAAAAAAAAAAAAAAAAAAAAAAAAAAAAAAAAAAAAAAAAAAAAAAAAAAAAAAAAAAAAAAAAAAAAAAAAAAAAAAAAAAAAAAAAAAAAAAAAAAAAAAAAAAAAAAAAAAAAAAAAAAAAAAAAAAAAAAAAAAAAAAAAAAAAAAAAAAAAAAAAAAAAAAAAAAAAAAAAAAAAAAAAAAAAAAAAAAAAAAAAAAAAAAAAAAAAAAAAAAAAAAAAAAAAAAAAAAAAAAAAAAAAAAAAAAAAAAAAAAAAAAAAAAAAAAAAAAAAAAAAAAAAAAAAAAAAAAAAAAAAAAAAAAAAAAAAAAAAAAAAAAAAAAAAAAAAAAAAAAAAAAAAAAAAAAAAAAAAAAAAAAAAAAAAAAAAAAAAAAAAAAAAAAAAAAAAAAAAAAAAAAAAAAAAAAAAAAAAAAAAAAAAAAAAAAAAAAAAAAAAAAAAAAAAAAAAAAAAAAAAAAAAAAAAAAAAAAAAAAAAAAAAAAAAAAAAAAAAAAAAAAAAAAAAAAAAAAAAAAAAAAAAAAAAAAAAAAAAAAAAAAAAAAAAAAAAAAAAAAAAAAAAAAAAAAAAAAAAAAAAAAAAAAAAAAAAAAAAAAAAAAAAAAAAAAAAAAAAAAAAAAAAAAAAAAAAAAAAAAAAAAAAAAAAAAAAAAAAAAAAAAAAAAAAAAAAAAAAAAAAAAAAAAAAAAAAAAAAAAAAAAAAAAAAAAAAAAAAAAAAAAAAAAAAAAAAAAAAAAAAAAAAAAAAAAAAAAAAAAAAAAAAAAAAAAAAAAAAAAAAAAAAAAAAAAAAAAAAAAAAAAAAAAAAAAAAAAAAAAAAAAAAAAAAAAAAAAAAAAAAAAAAAAAAAAAAAAAAAAAAAAAAAAAAAAAAAAAAAAAAAAAAAAAAAAAAAAAAAAAAAAAAAAAAAAAAAAAAAAAAAAAAAAAAAAAAAAAAAAAAAAAAAAAAAAAAAAAAAAAAAAAAAAAAAAAAAAAAAAAAAAAAAAAAAAAAAAAAAAAAAAAAAAAAAAAAAAAAAAAAAAAAAAAAAAAAAAAAAAAAAAAAAAAAAAAAAAAAAAAAAAAAAAAAAAAAAAAAAAAAAAAAAAAAAAAAAAAAAAAAAAAAAAAAAAAAAAAAAAAAAAAAAAAAAAAAAAAAAE1vaGFuAAAFkAMAAgAAABQAABCekAQAAgAAABQAABCykpEAAgAAAAM0MwAAkpIAAgAAAAM0MwAA6hwABwAACAwAAAiSAAAAABzqAAAACAAAAAAAAAAAAAAAAAAAAAAAAAAAAAAAAAAAAAAAAAAAAAAAAAAAAAAAAAAAAAAAAAAAAAAAAAAAAAAAAAAAAAAAAAAAAAAAAAAAAAAAAAAAAAAAAAAAAAAAAAAAAAAAAAAAAAAAAAAAAAAAAAAAAAAAAAAAAAAAAAAAAAAAAAAAAAAAAAAAAAAAAAAAAAAAAAAAAAAAAAAAAAAAAAAAAAAAAAAAAAAAAAAAAAAAAAAAAAAAAAAAAAAAAAAAAAAAAAAAAAAAAAAAAAAAAAAAAAAAAAAAAAAAAAAAAAAAAAAAAAAAAAAAAAAAAAAAAAAAAAAAAAAAAAAAAAAAAAAAAAAAAAAAAAAAAAAAAAAAAAAAAAAAAAAAAAAAAAAAAAAAAAAAAAAAAAAAAAAAAAAAAAAAAAAAAAAAAAAAAAAAAAAAAAAAAAAAAAAAAAAAAAAAAAAAAAAAAAAAAAAAAAAAAAAAAAAAAAAAAAAAAAAAAAAAAAAAAAAAAAAAAAAAAAAAAAAAAAAAAAAAAAAAAAAAAAAAAAAAAAAAAAAAAAAAAAAAAAAAAAAAAAAAAAAAAAAAAAAAAAAAAAAAAAAAAAAAAAAAAAAAAAAAAAAAAAAAAAAAAAAAAAAAAAAAAAAAAAAAAAAAAAAAAAAAAAAAAAAAAAAAAAAAAAAAAAAAAAAAAAAAAAAAAAAAAAAAAAAAAAAAAAAAAAAAAAAAAAAAAAAAAAAAAAAAAAAAAAAAAAAAAAAAAAAAAAAAAAAAAAAAAAAAAAAAAAAAAAAAAAAAAAAAAAAAAAAAAAAAAAAAAAAAAAAAAAAAAAAAAAAAAAAAAAAAAAAAAAAAAAAAAAAAAAAAAAAAAAAAAAAAAAAAAAAAAAAAAAAAAAAAAAAAAAAAAAAAAAAAAAAAAAAAAAAAAAAAAAAAAAAAAAAAAAAAAAAAAAAAAAAAAAAAAAAAAAAAAAAAAAAAAAAAAAAAAAAAAAAAAAAAAAAAAAAAAAAAAAAAAAAAAAAAAAAAAAAAAAAAAAAAAAAAAAAAAAAAAAAAAAAAAAAAAAAAAAAAAAAAAAAAAAAAAAAAAAAAAAAAAAAAAAAAAAAAAAAAAAAAAAAAAAAAAAAAAAAAAAAAAAAAAAAAAAAAAAAAAAAAAAAAAAAAAAAAAAAAAAAAAAAAAAAAAAAAAAAAAAAAAAAAAAAAAAAAAAAAAAAAAAAAAAAAAAAAAAAAAAAAAAAAAAAAAAAAAAAAAAAAAAAAAAAAAAAAAAAAAAAAAAAAAAAAAAAAAAAAAAAAAAAAAAAAAAAAAAAAAAAAAAAAAAAAAAAAAAAAAAAAAAAAAAAAAAAAAAAAAAAAAAAAAAAAAAAAAAAAAAAAAAAAAAAAAAAAAAAAAAAAAAAAAAAAAAAAAAAAAAAAAAAAAAAAAAAAAAAAAAAAAAAAAAAAAAAAAAAAAAAAAAAAAAAAAAAAAAAAAAAAAAAAAAAAAAAAAAAAAAAAAAAAAAAAAAAAAAAAAAAAAAAAAAAAAAAAAAAAAAAAAAAAAAAAAAAAAAAAAAAAAAAAAAAAAAAAAAAAAAAAAAAAAAAAAAAAAAAAAAAAAAAAAAAAAAAAAAAAAAAAAAAAAAAAAAAAAAAAAAAAAAAAAAAAAAAAAAAAAAAAAAAAAAAAAAAAAAAAAAAAAAAAAAAAAAAAAAAAAAAAAAAAAAAAAAAAAAAAAAAAAAAAAAAAAAAAAAAAAAAAAAAAAAAAAAAAAAAAAAAAAAAAAAAAAAAAAAAAAAAAAAAAAAAAAAAAAAAAAAAAAAAAAAAAAAAAAAAAAAAAAAAAAAAAAAAAAAAAAAAAAAAAAAAAAAAAAAAAAAAAAAAAAAAAAAAAAAAAAAAAAAAAAAAAAAAAAAAAAAAAAAAAAAAAAAAAAAAAAAAAAAAAAAAAAAAAAAAAAAAAAAAAAAAAAAAAAAAAAAAAAAAAAAAAAAAAAAAAAAAAAAAAAAAAAAAAAAAAAAAAAAAAAAAAAAAAAAAAAAAAAAAAAAAAAAAAAAAAAAAAAAAAAAAAAAAAAAAAAAAAAAAAAAAAAAAAAAAAAAAAAAAAAAAAAAAAAAAAAAAAAAAAAAAAAAAAAAAAAAAAAAAAAAAAAAAAAAAAAAAAAAAAAAAAAAAAAAAAAAAAAAAAAAAAAAAAAAAAAAAAAAAAAAAAAAAAAAAAAAAAAAAAAAAAAAAAAAAAAAAAAAAAAAAAAAAAAAAAAAAAAAAAAAAAAAAAAAAAAAAAAAAAAAAAAAAAAAAAAAAAAAAAAAAAAAAAAAAAAAAAAAAAAAAAAAAAAAAAAAAAAAAAAAAAAAAAAAAAAAAAAAAAAAAAAAAAAAAAAAAAAAAAAAAAAAAAAAAAAAAAAAAAAAAAAAAAAAAAAAAAAAAAAAAAAAAAAAAAAAAAAAAAAAAAAAAAAAAAAAAAAAAAAAAAAAAAAAAAAAAAAAAAAAAAAAAAAAAAAAAAAAAAAAAAAAAAAAAAAAAAAAAAAAAAAAAAAAAAAAAAAAAAAAAAAAAAAAAAAAAAAAAAAAAAAAAAAAAAAAAAAAAAAAAAAAAAAAAAAAAAAAAAAAAAAAAAAAAAAAAAAAAAAAAAAAAAAAAAAAAAAAAAAAAAAAAAAAAAAAAAAAAAAAAAAAAAAAAAAAAAAAAAAAAAAAAAAAAAAAAAAAAAAAAAAAAAAAAAAAAAAAAAAAAAAAAAAAAAAAAAAAAAAAAAAAAAAAAAAAAAAAAAAAAAAAAAAAAAAAAAMjAyMDoxMToxNSAxMTo1NDozMwAyMDIwOjExOjE1IDExOjU0OjMzAAAATQBvAGgAYQBuAAAA/+ELGGh0dHA6Ly9ucy5hZG9iZS5jb20veGFwLzEuMC8APD94cGFja2V0IGJlZ2luPSfvu78nIGlkPSdXNU0wTXBDZWhpSHpyZVN6TlRjemtjOWQnPz4NCjx4OnhtcG1ldGEgeG1sbnM6eD0iYWRvYmU6bnM6bWV0YS8iPjxyZGY6UkRGIHhtbG5zOnJkZj0iaHR0cDovL3d3dy53My5vcmcvMTk5OS8wMi8yMi1yZGYtc3ludGF4LW5zIyI+PHJkZjpEZXNjcmlwdGlvbiByZGY6YWJvdXQ9InV1aWQ6ZmFmNWJkZDUtYmEzZC0xMWRhLWFkMzEtZDMzZDc1MTgyZjFiIiB4bWxuczpkYz0iaHR0cDovL3B1cmwub3JnL2RjL2VsZW1lbnRzLzEuMS8iLz48cmRmOkRlc2NyaXB0aW9uIHJkZjphYm91dD0idXVpZDpmYWY1YmRkNS1iYTNkLTExZGEtYWQzMS1kMzNkNzUxODJmMWIiIHhtbG5zOnhtcD0iaHR0cDovL25zLmFkb2JlLmNvbS94YXAvMS4wLyI+PHhtcDpDcmVhdGVEYXRlPjIwMjAtMTEtMTVUMTE6NTQ6MzMuNDMzPC94bXA6Q3JlYXRlRGF0ZT48L3JkZjpEZXNjcmlwdGlvbj48cmRmOkRlc2NyaXB0aW9uIHJkZjphYm91dD0idXVpZDpmYWY1YmRkNS1iYTNkLTExZGEtYWQzMS1kMzNkNzUxODJmMWIiIHhtbG5zOmRjPSJodHRwOi8vcHVybC5vcmcvZGMvZWxlbWVudHMvMS4xLyI+PGRjOmNyZWF0b3I+PHJkZjpTZXEgeG1sbnM6cmRmPSJodHRwOi8vd3d3LnczLm9yZy8xOTk5LzAyLzIyLXJkZi1zeW50YXgtbnMjIj48cmRmOmxpPk1vaGFuPC9yZGY6bGk+PC9yZGY6U2VxPg0KCQkJPC9kYzpjcmVhdG9yPjwvcmRmOkRlc2NyaXB0aW9uPjwvcmRmOlJERj48L3g6eG1wbWV0YT4NCiAgICAgICAgICAgICAgICAgICAgICAgICAgICAgICAgICAgICAgICAgICAgICAgICAgICAgICAgICAgICAgICAgICAgICAgICAgICAgICAgICAgICAgICAgICAgICAgICAgICAKICAgICAgICAgICAgICAgICAgICAgICAgICAgICAgICAgICAgICAgICAgICAgICAgICAgICAgICAgICAgICAgICAgICAgICAgICAgICAgICAgICAgICAgICAgICAgICAgICAgIAogICAgICAgICAgICAgICAgICAgICAgICAgICAgICAgICAgICAgICAgICAgICAgICAgICAgICAgICAgICAgICAgICAgICAgICAgICAgICAgICAgICAgICAgICAgICAgICAgICAgCiAgICAgICAgICAgICAgICAgICAgICAgICAgICAgICAgICAgICAgICAgICAgICAgICAgICAgICAgICAgICAgICAgICAgICAgICAgICAgICAgICAgICAgICAgICAgICAgICAgICAKICAgICAgICAgICAgICAgICAgICAgICAgICAgICAgICAgICAgICAgICAgICAgICAgICAgICAgICAgICAgICAgICAgICAgICAgICAgICAgICAgICAgICAgICAgICAgICAgICAgIAogICAgICAgICAgICAgICAgICAgICAgICAgICAgICAgICAgICAgICAgICAgICAgICAgICAgICAgICAgICAgICAgICAgICAgICAgICAgICAgICAgICAgICAgICAgICAgICAgICAgCiAgICAgICAgICAgICAgICAgICAgICAgICAgICAgICAgICAgICAgICAgICAgICAgICAgICAgICAgICAgICAgICAgICAgICAgICAgICAgICAgICAgICAgICAgICAgICAgICAgICAKICAgICAgICAgICAgICAgICAgICAgICAgICAgICAgICAgICAgICAgICAgICAgICAgICAgICAgICAgICAgICAgICAgICAgICAgICAgICAgICAgICAgICAgICAgICAgICAgICAgIAogICAgICAgICAgICAgICAgICAgICAgICAgICAgICAgICAgICAgICAgICAgICAgICAgICAgICAgICAgICAgICAgICAgICAgICAgICAgICAgICAgICAgICAgICAgICAgICAgICAgCiAgICAgICAgICAgICAgICAgICAgICAgICAgICAgICAgICAgICAgICAgICAgICAgICAgICAgICAgICAgICAgICAgICAgICAgICAgICAgICAgICAgICAgICAgICAgICAgICAgICAKICAgICAgICAgICAgICAgICAgICAgICAgICAgICAgICAgICAgICAgICAgICAgICAgICAgICAgICAgICAgICAgICAgICAgICAgICAgICAgICAgICAgICAgICAgICAgICAgICAgIAogICAgICAgICAgICAgICAgICAgICAgICAgICAgICAgICAgICAgICAgICAgICAgICAgICAgICAgICAgICAgICAgICAgICAgICAgICAgICAgICAgICAgICAgICAgICAgICAgICAgCiAgICAgICAgICAgICAgICAgICAgICAgICAgICAgICAgICAgICAgICAgICAgICAgICAgICAgICAgICAgICAgICAgICAgICAgICAgICAgICAgICAgICAgICAgICAgICAgICAgICAKICAgICAgICAgICAgICAgICAgICAgICAgICAgICAgICAgICAgICAgICAgICAgICAgICAgICAgICAgICAgICAgICAgICAgICAgICAgICAgICAgICAgICAgICAgICAgICAgICAgIAogICAgICAgICAgICAgICAgICAgICAgICAgICAgICAgICAgICAgICAgICAgICAgICAgICAgICAgICAgICAgICAgICAgICAgICAgICAgICAgICAgICAgICAgICAgICAgICAgICAgCiAgICAgICAgICAgICAgICAgICAgICAgICAgICAgICAgICAgICAgICAgICAgICAgICAgICAgICAgICAgICAgICAgICAgICAgICAgICAgICAgICAgICAgICAgICAgICAgICAgICAKICAgICAgICAgICAgICAgICAgICAgICAgICAgICAgICAgICAgICAgICAgICAgICAgICAgICAgICAgICAgICAgICAgICAgICAgICAgICAgICAgICAgICAgICAgICAgICAgICAgIAogICAgICAgICAgICAgICAgICAgICAgICAgICAgICAgICAgICAgICAgICAgICAgICAgICAgICAgICAgICAgICAgICAgICAgICAgICAgICAgICAgICAgICAgICAgICAgICAgICAgCiAgICAgICAgICAgICAgICAgICAgICAgICAgICAgICAgICAgICAgICAgICAgICAgICAgICAgICAgICAgICAgICAgICAgICAgICAgICAgICAgICAgICAgICAgICAgICAgICAgICAKICAgICAgICAgICAgICAgICAgICAgICAgICAgICAgICAgICAgICAgICAgICAgICAgICAgICAgICAgICAgICAgICAgICAgICAgICAgICAgICAgICAgICAgICAgICAgICAgICAgIAogICAgICAgICAgICAgICAgICAgICAgICAgICAgPD94cGFja2V0IGVuZD0ndyc/Pv/bAEMABwUFBgUEBwYFBggHBwgKEQsKCQkKFQ8QDBEYFRoZGBUYFxseJyEbHSUdFxgiLiIlKCkrLCsaIC8zLyoyJyorKv/bAEMBBwgICgkKFAsLFCocGBwqKioqKioqKioqKioqKioqKioqKioqKioqKioqKioqKioqKioqKioqKioqKioqKioqKv/AABEIAWICVAMBIgACEQEDEQH/xAAfAAABBQEBAQEBAQAAAAAAAAAAAQIDBAUGBwgJCgv/xAC1EAACAQMDAgQDBQUEBAAAAX0BAgMABBEFEiExQQYTUWEHInEUMoGRoQgjQrHBFVLR8CQzYnKCCQoWFxgZGiUmJygpKjQ1Njc4OTpDREVGR0hJSlNUVVZXWFlaY2RlZmdoaWpzdHV2d3h5eoOEhYaHiImKkpOUlZaXmJmaoqOkpaanqKmqsrO0tba3uLm6wsPExcbHyMnK0tPU1dbX2Nna4eLj5OXm5+jp6vHy8/T19vf4+fr/xAAfAQADAQEBAQEBAQEBAAAAAAAAAQIDBAUGBwgJCgv/xAC1EQACAQIEBAMEBwUEBAABAncAAQIDEQQFITEGEkFRB2FxEyIygQgUQpGhscEJIzNS8BVictEKFiQ04SXxFxgZGiYnKCkqNTY3ODk6Q0RFRkdISUpTVFVWV1hZWmNkZWZnaGlqc3R1dnd4eXqCg4SFhoeIiYqSk5SVlpeYmZqio6Slpqeoqaqys7S1tre4ubrCw8TFxsfIycrS09TV1tfY2dri4+Tl5ufo6ery8/T19vf4+fr/2gAMAwEAAhEDEQA/APpGiiigAooooAKKjkZg3yjIx+VZd/4l0fS7hLfUtVtLedvuxSTqrN+BNHUDYoqCOZZQrRuHRuQy8gj69KnoAKKKKACiiigAooooAKKKKACiiigAooooAKKKKACiiigAooooAKKKKACiiigAooooAKKKKACimse2ccVn6LrNrrll9qsmLJnFAGlRSUtABRRRQAUUUUAFFFFABRRRQAUUUUAFFFFABRTXzt4601GJGQd340ASUU0nPsacOnPWgAooooAKKKKACiiigAooooAKKKKACiiigAooooAKKKKACiiigAooooAKKKKACiiigAooooAim65AyQK8V13Vm1KLXWsLLSYktXMUj3yF5ywPJU5GOle1SKSxI546elYF74N8N3N++oX2j2clxkFpnjGT7k0utxlP4ayyXPgHTZZsuzA8k+jEf0rsKoWEVlaW6wacIUgjOAsOMA/hV4t+NNu7JFopNwoyKBi0UmRRkUALRSZFGRQAtFJkUZFAC0UmRRkUALRSZFGRQAtFJkUZFAC0UmRRkUALRSZFGRQAtFJkUZFAC0UmRRkUALRSZFGRQAtFJkUuaAIp2K4x07nNeP8AhLWvE2meE5LnS7K1bTrRiZTMreY4z1GCK9gmBOdpwSMZHavKbTQPG+n6FPoEcFlPbXBIa48wq0an0GKXUD0jQ9Yj1zRrPUYF2x3MSybT1XPatOsfw7pA0PQbHTw/mfZ4ljLnvitfIqmAtFJkUZFIBaKTIoyKAFopMijIoAWikyKMigBaKTIoyKAFopMikZwoJPYZoAzvEVzJZ+Hry5gz5sUTMmOxxXB+DvDVlqeh6d4iu9QuDqVwqzSzC4baGPOzbnb7dK9FupYGj8qd1UPxtdgNwrl7D4c6TY3wmtbvURD5xmFr9rbyQxOeE6YzQB1qD5VBO7jrUo6U0JtAA6DtThwKACiiigAooooAKKKKACiiigAooooAKKKKACiiigAooooAKKKKACiiigAooooAKKKKACiiigBrHBwe9eH/ALQ/jrVPDmn2OmaRI0D3gLPKo5wO3617e33v5VxvxC+HOl/ELSlt9QcwSxf6qdVyV/Cole+g0fNHwn+J2reHvFkMd7d3N5p9058+NgXIJ43DvxX0wPij4dKrk3wOP+fKT/CvN9D+D+nfC/XrTXtRum1m38xYCRFs8lmO1W25ORkjuMdeele4xx28kYeKJCrAFSEHStXaysSjl/8AhaPhv+9f/wDgDJ/hR/wtHw3/AHr/AP8AAGT/AArrRbQ4/wBSn/fIo+zQ/wDPFP8AvkVIzkv+Fo+G/wC9f/8AgDJ/hR/wtHw3/ev/APwBk/wrrfs0P/PFP++RR9mh/wCeKf8AfIoA5L/haPhv+9f/APgDJ/hR/wALR8N/3r//AMAZP8K637ND/wA8U/75FH2aH/nin/fIoA5L/haPhv8AvX//AIAyf4Uf8LR8N/3r/wD8AZP8K637ND/zxT/vkUfZof8Anin/AHyKAOS/4Wj4b/vX/wD4Ayf4Uf8AC0fDf96//wDAGT/Cut+zQ/8APFP++RR9mh/54p/3yKAOS/4Wj4b/AL1//wCAMn+FH/C0fDf96/8A/AGT/Cut+zQ/88U/75FH2aH/AJ4p/wB8igDkv+Fo+G/71/8A+AMn+FH/AAtHw3/ev/8AwBk/wrrfs0P/ADxT/vkUfZof+eKf98igDkv+Fo+G/wC9f/8AgDJ/hR/wtHw3/ev/APwBk/wrrfs0P/PFP++RR9mh/wCeKf8AfIoA5L/haPhv+9f/APgDJ/hR/wALR8N/3r//AMAZP8K637ND/wA8U/75FH2aH/nin/fIoA5L/haPhv8AvX//AIAyf4Uf8LR8N/3r/wD8AZP8K637ND/zxT/vkUfZof8Anin/AHyKAOS/4Wj4b/vX/wD4Ayf4Uf8AC0fDf96//wDAGT/Cut+zQ/8APFP++RR9mh/54p/3yKAOS/4Wj4b/AL1//wCAMn+FH/C0fDf96/8A/AGT/Cut+zQ/88U/75FH2aH/AJ4p/wB8igDkv+Fo+G/71/8A+AMn+FH/AAtLw3/ev/8AwBk/wrrfs0P/ADxT/vkUfZof+eKf98igDz7XfjL4Z0jTZbpvtjsq/KjWzpuPpkjArzfw9+061xrjR69pUFvZu2I5INxZfrknNd98dvDi6x8N7sweXHJagzqAvzPt5wK+evC3wf8AGGqa9afa9IntYC4ZpJwAu0UR1Y3sfTy/FLw66oytelWAYH7FIePbAqX/AIWj4b/vX/8A4Ayf4V0WnabBZ6dbWuyMmGNUJCjnAq39mh/54p/3yKLko5L/AIWj4b/vX/8A4Ayf4Uf8LR8N/wB6/wD/AABk/wAK637ND/zxT/vkUfZof+eKf98igZyX/C0fDf8Aev8A/wAAZP8ACj/haPhv+9f/APgDJ/hXW/Zof+eKf98ij7ND/wA8U/75FAHJf8LR8N/3r/8A8AZP8KP+Fo+G/wC9f/8AgDJ/hXW/Zof+eKf98ij7ND/zxT/vkUAcl/wtHw3/AHr/AP8AAGT/AAo/4Wj4b/vX/wD4Ayf4V1v2aH/nin/fIo+zQ/8APFP++RQByX/C0fDf96//APAGT/Cj/haPhv8AvX//AIAyf4V1v2aH/nin/fIo+zQ/88U/75FAHJf8LR8N/wB6/wD/AABk/wAKjk+J+gEFohfvgHg2TgfqK7H7ND/zxT/vkVFLawlgPJjx0bKjkUnsB8UeOPiXr3iHxNNONQuLeGGQ+VGhK4we4r6G+BXj658W+GDb6vcI99bHbnI3Oo74rk/iv8ENMjhufEOnXrWv7xQ0Hl5DFmA65969E0T4V6X4b0KKz0N2tL+Ablv9mWZu5Zc8j2zVR+HUJ76Hoe5c4yM+maXIHU1w8Wvav4dlEPi9IDZ9ItUt2JDkdTJHj5OvGGbpXV2N7b3tsk1rKssbAEFGzxSAu0Ui0tABRRRQAUUUUAFFFFABRRRQAUUUUAFFFFABRRRQAUUUUAFFFFABRRRQAUUUUAFFFFABikwPSlooAr3tnb31jLbXUavDIhVlI7VyuiXc+i6/PoOpyFbZ8Pp0z/xjnKZ9RxgdTmuyPSsPxNoi63ok1or+XNw0Mo+8jex7UAblFc9oGvyXe/T72PZqNoAJo/Uf3h7Gt9HDjIoAdRRRQAUUUUAFFFFABRRRQAUUUUAFFFFABRRRQAUUUUAFFFFABRRRQAUUUHgUAFV528ve0kgSMDJOcYwM5qQOTyMEHpXH+I7iXxPdv4d0wlI1kRry5U/6sKwbYPc4xj0JoAZaCXxbr01zco0mj2zAWwbgTMOp29xmuzjA6gDBGAMVHaW8UFuiQqERRhQBjFTqoXpQAoAHQUUUUAFFFFABRRRQAUUUUAFFFFABRRRQAUYoooA434qAf8IDc8dZos/99iuwAGa4/wCKn/Ig3P8A12i/9DFdj3oAimt4rmFo541kQ9QwyK5O78H/AGG8N/4auJLO4DF3twcRTn0I7fhXY7ab5a8+9AHKaX4yB1BdM1+zuNL1Fz8iyqWjf0xIMpkngDOfaupifexOcg+9VtU0q01axe0vo98TjHHBU+oPYiuVFhrXhB/O06SbVNMj4NkBulUeq9yfagDuKKw9E8Wab4g3pYTqbiLiaBuHiburDsQa1hPhsMMnGeKAJqKRSSoJGD6ZpaACiiigAooooAKKKKACiiigAooooAKKKKACiiigAooooAKKKKACiiigAooooAKjKEtkYBx1qSigDk/EumS2kkmvaQWW8tYiZ4kGftCAfdI78DitzRNRi1PRra8gwEmQNtU52HuPqDVp4yWJrjrmKTwj4kN/DmLRrpR5sK/djlJILY/hBGPxzQB2+aKihkSVVeNgyFchgetS5oAKKKKACiiigAooooAKKKKACiiigAooooAKKKKACiiigAooooAKQnj0oPGPrVDVtTt9J06W8u32xoO5xz2FAGZ4r1p9LtLaCxXdd3koiiC8so7vj0HGfqKs6H4ej0i3chvMurhhJcznrM2Op/Osrw9pk1zrlx4j1FSHuokit4G5ECKWO4A9C27nHXavpXXjoMUANRSq8nJzTqKKACiiigAooooAKKKKACiiigAooooAKKKKACiiigDjfip/yINz/wBdov8A0MV2I61x3xU/5EG5/wCu0X/oYrsR1oAWiiigBCCehprIWXrg+tPooAwNd8Lx6w0U63Eljdwj5Lq3YrIo7jcOcVjx67qfhicW/iljcwOf3V9BGSAP9sD+ddueVPeq726ygrKqujDDKwyD9aAI7LU7O/tRNYzpcRdnjOQatBwwyvP0rkL3wpfWF0bzwncCwOcyWAUeRcntuH8P/ASM981NpXiiZbxdP1+ybTrhgcSMNsbkddh9KAOrBzRUcciuFKMGBHBHenl1BILDI680ALRRRQAUUUUAFFFFABRRRQAUUUUAFFFFABRRRQAUUUUAFFFFABRRRQAUUUUAFVNQt0urdoZhmKRSrew71bpCob7wB+ooA47w/cnwzqEPhS9O6ERFtPm7mMEAo3uMjnv7V14bJH1xWX4g0aLVLVWGY7uE7reZOGVsdM+h/KqfhfWbjUrP7NqKLFqNq5S5i9MH5W98jB445oA6OiiigAooooAKKKKACiiigAooooAKKKKACiiigAooooAKKKilOGHJGe3rQA6UhYyWOAOTXFKjeMtfuYZW/wCJPp7qqhOly+A2c+injGOq9am8S31zq1x/YOiysbjcpuZ1+7GncfU10lhZQWFvFbWsaxxIAAoGO3U+p96ALMYREVVGAq4A9AKlHQZpMD0FLQAUUUUAFFFFABRRRQAUUUUAFFFFABRRRQAUUUUAFFFFAHG/FT/kQbn/AK7Rf+hiuxHWuO+Kn/Ig3P8A12i/9DFdiOtAC0UUUAFFFFABRRRQAVm6zpNhrNsbXVbRLq34bY3qDWlRgHqKAOGfTdb8JkzaIZdXtnP7y1upcNH/ALSNg8Y/hx+NbOh+I7HWwTCstvIp5guUCOPfGT/Ot6QZXuPpXP654TstbkW4dpba7TmOeCQqVI6EjPOPQ0AdFRXDf29rHhZxaa9DPf2ScjVYFBIX0kjHO7ryoxjFdXp+pW+q2cdzYzeZE4+VhwR7EdqAL1FNQ5yc5GeKdQAUUUUAFFFFABRRRQAUUUUAFFFFABRRRQAUUUUAFFFFABRRRQAUUUUAMlOE64rlPEVhdw6lZa3pEO+e0J8+BTtNzERjGfVevviusdSwGOOetRyQ715OQMHB9v60AU9I1q31qwW7s3BQkqwPVWHVfrWkDkA4xXEXEbeDtTilt2zpOo3SxSxY4gds/vCey8cn6V2qsuwYORjg+tADqKAcjIooAKKKKACiiigAooooAKKKKACiiigAooooAQnFYPibxCNEtoQluZ7u6cQ20QON0jHCgnsM961L2/t9PtJrm8kEUEQy7v0/CuZ8P2F1rOr3GvajGVgf5bKOX7yp6kds/nQBpeGNEOkW832iUT3lzIZrqULgNIeuB2Htk1u+WNwPOaSOPZ3z70+gAooooAKKKKACiiigAooooAKKKKACiiigAooooAKKKKACiiigDjfip/yINz/12i/9DFdiOtcd8VP+RBuf+u0X/oYrsR1oAWiiigAooooAKKKKACiiigAIzTSgJ6kf1p1FAEbQRupDoGB6gjOa5HUvCd3b3z33hi/aynZstbyLvhf14GCD75rsqYY8nnnnv2oA5Wx8bW9vcJp+vxyabd7hGslwm2Kdz/cbvXUJMJFypVh6g1W1DSbbU4GhvY0mjZSpDDkA+9ctLo2teE1L+GY0vNNQbmsN+JCfRM/L+ZFAHbZpawdG8T2mqqsZP2a8DES2kpCyIQDkY79OoyPetpJlkUFckH2oAkopu8ZxQHB+nrQA6iobi7gtITLdSrDGOrOcCpBIpAI5B6EUAOooooAKKKKACiiigAooooAKKKKACiiigAooooAKD0NFFAFG8sY721a3uIlkicYZGGQRXOeHrubQ9Vk8P6tMeXY2DyH/AFkYyQM9yF6/Suxrn/E2hJr+nPAX8maKRZYJAOjqQy59sgfhQBvIR0FOzWB4c186olzbXaeVfWLCO5T0bAOR7EEH8a3VOT/KgB1FFFABRRRQAUUUUAFFFFABRRRQAUhZR1IFB+6fpXJ+KdRuZZbfRdFkP2y6lHnMnJhg/ib2PTH40AVr0N401m40zJXS7G4X7QMczSI2Qv0DKDkeldjAhRTuPU9AOB9Kq6ZpdrpVmtvYR7IwOWPVvc1eXpQAtFFFABRRRQAUUUUAFFFFABRRRQAUUUUAFFFFABRRRQAUUUUAFFFFAHG/FT/kQbn/AK7Rf+hiuxHWuO+Kn/Ig3P8A12i/9DFdiOtAC0UUUAFFFFABRRRQAUUUUAFFFFABRRRQAUyVdyYp9MlYJHknAoA57WvCmna5+8uIyl02CLqE7JAPQMO2OMeleHePvjPr/g7UpvDWmNE89i2z7Y3zFgeRnPcCvaNW8XrDcNp+k2b6hfjjy0+4vrlvbmvD/iV8FPE2u6wdesRHc3N4d9zEDgRHGAB68AVLvcuNj0D4N/FaTx5bSWmpqo1C3XO4DAcfSvVJriK1t5J5W2xxIXYnpgcmvIPgd8LL/wAFrc6jru1Lyddixg52V6Z4osZtS8K6jZ2xxPNbuiDP8RUgVctjKN7s83+Ifj+y1jwRdwW9jewxyuqRXckTCN23DhWxgmvWbPaLaJU+6FA4+leL67qrXvwyXw7b6RPJf2+1ZV8rAQBhlgfWvaLP5bWJW4KqBj2o6FFuiiikAUUUUAFFFFABRRRQAUUUUAFFFFABRRRQAUUUUAFGBnOOaKKAOS8U6dcadM+vaDFm+VR50C8Lcr/tDpnHGevSt7SL+HU9PivLWQSwyruVh/h2+lW5lDAbhlR1rjCZPCPim6u8MdFvtm5V4W2kGdzH/ez+lAHb0VBDcCZUdSDG4BVh0IPQ1PQAUUUUAFFFFABRRRQAUyXlOpHPY0rE7sD6mobq4jgtnkuHWNEGSxPSgDN8Ra6mgaO95IC7EhY4+7sTgfzqn4V0d9Ntp7i4IkvL+UzySfeKjAwmeuBzge5qno0T+JdcuNY1CNv7PhcRabGeAVC/NIw7nfuwfTFdesSL0FAD8Aj1ooooAKKKKACiiigAooooAKKKKACiiigAooooAKKKKACiiigAooooAKKKKAON+Kn/ACINz/12i/8AQxXYjrXHfFT/AJEG5/67Rf8AoYrsR1oAWiiigAooooAKKKKACiiigAooNJnigBaid8NhcZ9CarX2qQafbNPdzxxRp94ucYFcrc61r/iGRofDMMNnZ551S5UyK69CEQEHPPBz+FAG1rPinTdGVVuboPNIdsUMXzO7emB0P1rENtrnjJf9KnuNI0mQbWtE+SeVfUuPmQ/QitrR/CelaaDIIRPdsB51xLyznr+H4VuLCq+p9M9qAM3SNItdEs0tLCLy4l/iY7mf3Ynlj6k81qbV9B+VIY1J5p1ACbR6Cjauc4GfpS0UAJtXBG0YPXijaB0A/KlooAKKKKACiiigAooooAKKKKACiiigAooooAKKKKACiiigAooooAayknI/CqWpadDqGnTWl4N8U6lWX2q/TZAWXC9aAOS8P3dxpOtN4a1FxIsVuJ7S46B4t20I2ejDHQZ4ArrBKD0B+lYviHRBqunM8SEX0ClraTOCHA4yfTNQ+GtaOo2fkXZEepWmFuoG4K56Nj0OOPoaAOj60UgIx6UtABRRRQAUUUZGcZ5oAY7YZQa4zUml8Y6k+kWD+VZWUw+13H9916xj6d81o+KtYuIJLbTdJw99eMEyo3GFScCQj+6Dn8q0dB0WHRLEW8OS5+aaRusrnqx96AL0UHkqqR7VReAo7AdqmoooAKKKKACiiigAooooAKKKKACiiigAooooAKKKKACiiigAooooAKKKKACiiigDjfip/wAiDc/9dov/AEMV2I61x3xU/wCRBuf+u0X/AKGK7EdaAFooooAKKKKACiikyPWgBaY8qowU+mSfSnb1BAJHPT3rG17xDaaIsbTrLcSy8RW1tEZZZCOu1F5OO57UAarSrtJOQF5Oa5jVvF7fav7P8OWUmqXL4BmiK+TCSOC7Z6dM7QT7VS/s3XPFzbtYWXR7FDlIIZP3kvufQe1dRpmjWOj24t9NtFtos5Kpn19TQBhW3gyTUpkv/FskV3ef88ImJgQf3QCBuHfkd66eG1jt4ljgRY40GFRRgAVPRQA1V259M8U6iigAooooAKKKKACiiigAooooAKKKKACiiigAooooAKKKKACiiigAooooAKKKKACiiigAooooARhlSM4461yXiLS5rfVIPEGmoXntVZZoBx5sZxuP+8MDH1NddTSgdSpAIIwRjrQBR0nVLXWNNgvbF98Eygqfar69K4qXPg7xFbxQDbo+oSlZAeEtWIOMf3QTgY6c12UJzH60ASUUUHhTjmgArJ1zVrbQtPmv7rIVCqqB/E7EKqj6kgfjV0ysIy0hCBQSxJ4xXIWSt4y1aa5vstptnN/o0X8EzKeHI6MOMjPfFAGh4R0W4tbZ9Q1dd+pXUjSOxOSgJ+VfwGBXTjrTYh8mfWn0AFFFFABRRRQAUUUUAFFFFABRRRQAUUUUAFFFFABRRRQAUUUUAFFFFABRRRQAUUUUAcb8VP8AkQbn/rtF/wChiuxHWuO+Kn/Ig3P/AF2i/wDQxXYjrQAtFFFABRTWzng0x2wuc4A7mgCU9DWfeahbafH515dRwR8kF2HOPT3rCv8Axc89y9h4Yii1O+jYrN+8wkWOoY54NNsPCjXc4v8AxY8Gp3asDArxjy4B1wq4xuyfvdelAFR9Y1bxZj/hGm+y6TjbJdzoVkJ9UX298VraJ4UstHuPthaS4vpBiS5kOS2e+O2RXRKo8sA/Nx1I607FAEcZJJJIPbipKQAAcAD6UtABRRRQAUUUUAFFFFABRRRQAUUUUAFFFFABRRRQAUUUUAFFFFABRRRQAUUUUAFFFFABRRRQAUUUUAFFFFABRRTPMG7HcdRQBVvbGC/glt7yNZYXBVlbvmua8Najc6If7C1uUyTo7C3mc4EiZ+Vc+oGB+FdZI3HP1+lY/iDQf7ahgeKXybu0kE1tLjIRx6juOKANoOzJxwcdSKPMIUngj8q4rTviXoDM9prmoW9jqVtM1tNCzHBcHkr7H3rS8QeIGthY22lbJLvUXKQOcMsYxnefagChr08vie+i0LSJGEUUqyahOPuNHz+6+p/pXX21pBawrHbRiKNRhUAwAPSszw9oMeg6d5EUjSs8jSyu5+87YycfhWyOgoAAoXpS0ZozQAUUZozQAUUZozQAUUZozQAUUZozQAUUZozQAUUZozQAUUZozQAUUZozQAUUZozQAUUZozQAUUZozQAUUZprOFPIPSgDj/ip/wAiDc/9dov/AEMV2I61xPxVuYh4GnjMihzNFhSwyfnFdkswY8cjsfWgCWonlZeg74yaq6nrdho1qbjUZxDFnAJBOfyrlTrmueJrh4NE08afZsdsl7ctiQj+9GFyDx3JHWgDe1nxHb6TCRjz7tsLFaxnLSMeg/PvWIml634qm/4qNUs9LcZFhGSJG9nfPT2AH1rT0fwXpWkzLdwxvPegn/TLlzJLg9RuPIHtXQIhXvk+vrQBU0/SbDSoEt9OtY4I1XbhByR7nqfxq2YlKkdj+lOxS0AFFFFABRRRQAUUUUAFFFFABRRRQAUUUUAFFFFABRRRQAUUUUAFFFFABRRRQAUUUUAFFFFABRRRQAUUUUAFFFFABRRRQAHpWJ4m1qHw74dvNUlG8W6bsfyBrbrF8RaMmv8Ah270qRsLOhQEjv60tRo86j+JOoQJY6hfapoV1b3EyqbS2LCdAx2jJ3kHGfSvTrmVxo0k0JZmMZZT3NedaV4T8RadPb27eHvD01tbsoNy1w4lYDvjy8Zx79a9Oh/1YQjaB+IP0pvVC2Z8AeIbq/ufEt9dakWW7a4LyZGCGJr6F+DWoeJYvDY1CXw5ca44fZa3El4ibI+6qCPXPNdB8Tvhp4Zkms9YNgEu5r6NJCvRgc5/lXqWl6Za6NYQ2dhEsMEYwqD3pxdog9ZHOf8ACU+Lf+hDl/8ABlH/AIUf8JT4t/6EOX/wZR/4V2dFIDjP+Ep8Xf8AQhy/+DKP/Cj/AISnxd/0Icv/AIMo/wDCuzooA4z/AISnxd/0Icv/AIMo/wDCj/hKfF3/AEIcv/gyj/wrs6KAOM/4Snxd/wBCHL/4Mo/8KP8AhKfF3/Qhy/8Agyj/AMK7OigDjP8AhKfF3/Qhy/8Agyj/AMKP+Ep8Xf8AQhy/+DKP/CuzooA4z/hKfF3/AEIcv/gyj/wo/wCEp8Xf9CHL/wCDKP8Awrs6KAOM/wCEp8Xf9CHL/wCDKP8Awo/4Snxd/wBCHL/4Mo/8K7OigDjP+Ep8Xf8AQhy/+DKP/Cj/AISnxd/0Icv/AIMo/wDCuzooA4z/AISnxd/0Icv/AIMo/wDCj/hKfF3/AEIcv/gyj/wrs6KAOM/4Snxd/wBCHL/4Mo/8KP8AhKfF3/Qhy/8Agyj/AMK7OigDjP8AhKfF3/Qhy/8Agyj/AMKP+Ep8Xf8AQhy/+DKP/CuzooA4z/hKfF3/AEIcv/gyj/wo/wCEp8Xf9CHL/wCDKP8Awrs6KAOM/wCEp8Xf9CHL/wCDKP8Awo/4Snxd/wBCHL/4Mo/8K7OigDjP+Eq8Xf8AQiTf+DKP/Co5PFPi0fMfA0wwDx/aMZz/AOO129RyH2z7UnsB8N+OvHOueJfFFxLqNzNAsMhCwK3EeD04617l8IfiNr/iPwsNOW3N1qkbbY7qZCYVX1YjGcemeax/HXwatPEHxImttImFtI1qLllI4J3AH+dezeD/AAhpvg3Q7fTdLXKqMtKV+Zm7n8TVRty6hPfQg0vwlcLdnUPEd82q3LciHAW3iP8AsL154+8TXUKiIAqKFVRwFGAKq6rfxaXpst1cS+WkakkkEjP0FedfC+/sNdvL3U2v5rrUXkcFG3CMR7uAMjrSQHqiDA/GnUyMYXpin0AFFFFABRRRQAUUUUAFFFFABRRRQAUUUUAFFFFABRRRQAUUUUAFFFFABRRRQAUUUUAFFFFABRRRQAUUUUAFFFFABRRRQAUUUUAFJgZzgZpaKAECgdAB+FLgDoKKKAOM+Jn/ACBdN/7CcP8AJq7AAHnHOa4/4mf8gXTf+wlD/Jq7EdPxoAdRRRQAUUUUAFFFFABRRRQAUUUUAFFFFABRRRQAUUUUAFFFFABRRRQAUUUUAFFFFABRRRQAUhpaD0oA4dVB+Nb5AP8AxKvT/aFduQOoAzjrXEp/yWx/+wV/7MK7frQBT1GNX024V1DAoeMdeK5X4ZxqvhqRhEI3N3Ln5MHG6u0aNWADcj09ajhtYbddsCCNeflXpQBKoxn60tAGKKACiiigAooooAKKKKACiiigAooooAKKKKACiiigAooooAKKKKACiiigAooooAKKKKACiiigAooooAKKKKACiiigAooooAKKKKACiiigAooooA4z4mf8gXTf+wlD/Jq7EdPxrjviZ/yBdN/7CUP8mrsR0/GgB1FFFABRRRQAUUUUAFFFFABRRRQAUUUUAFFFFABRRRQAUUUUAFFFFABRRRQAUUUUAFFFFABQelFB6UAcQn/JbH/7BX/swrt64hP+S2P/ANgr/wBmFdvQAUUUUAFFFFABRRRQAUUUUAFFFFABRRRQAUUUUAFFFFABRRRQAUUUUAFFFFABRRRQAUUUUAFFFFABRRRQAUUUUAFFFFABRRRQAUUUUAFFFFABRRRQAUUUUAcZ8TP+QLpv/YSh/k1diOn41x3xM/5Aum/9hKH+TV2I6fjQA6iiigAooooAKKKKACiiigAooooAKKKKACiiigAooooAKKKKACiiigAooooAKKKKACiiigAoPSig9KAOIT/ktj/9gr/2YV29cQn/ACWx/wDsFf8Aswrt6ACiiigAooooAKKKKACiiigAooooAKKKKACiiigAooooAKKKKACiiigAooooAKKKKACiiigAooooAKKKKACiiigAooooAKKKKACiiigAooooAKKKKACiiigDjPiZ/wAgXTf+wlD/ACauxHT8a474mf8AIF03/sJQ/wAmrsR0/GgB1FFFABRRRQAUUUUAFFFFABRRRQAUUUUAFFFFABRRRQAUUUUAFFFFABRRRQAUUUUAFFFFABQelFB6UAcQn/JbH/7BX/swrt64hP8Aktj/APYK/wDZhXb0AFFFFABRRRQAUUUUAFFFFABRRRQAUUUUAFFFFABRRRQAUUUUAFFFFABRRRQAUUUUAFFFFABRRRQAUUUUAFFFFABRRRQAUUUUAFFFFABRRRQAUUUUAFFFFAHGfEz/AJAum/8AYSh/k1diOn41x3xM/wCQLpv/AGEof5NXYjp+NADqKKKACiiigAooooAKKKKACiiigAooooAKKKKACiiigAooooAKKKKACiiigAooooAKKKKACg9KKD0oA4hP+S2P/wBgr/2YV29cQn/JbH/7BX/swrt6ACiiigAooooAKKKKACiiigAooooAKKKKACiiigAooooAKKKKACiiigAooooAKKKKACiiigAooooAKKKKACiiigAooooAKKKKACiiigAooooAKKKKACiimsSD7UAcd8Tf+QLpn/YTh/k1dh/j/WvK/jB440XR7exsb26BuI76OZo05IUA/wCNd54d8UaX4o05b7RrhZ4SQDjqp9DRuD0NuikzRmgBaKTNGaAFopM0ZoAWikzRmgBaKTNGaAFopM0ZoAWikzRmgBaKTNGaAFopM0ZoAWikzRmgBaKTNGaAFopM0ZoAWikzRmgBaQ0ZqOWUR5LEAAZJJxgetF7AcYv/ACWtv+wX/wCzCu3rzay8QaXffGmT7HfQyldPMZw3Rtw4r0cMT270BcfRRRQAUUUUAFFFFABRRRQAUUUUAFFFFABRRRQAUUUUAFFFFABRRRQAUUUUAFFFFABRRRQAUUUUAFFFFABRRRQAUUUUAFFFFABRRRQAUUUUAFGaKSkAtRSE7gB3B59KlzUbkE9enPFDGj4l+M1hqdv8TtVk1FJQks7G3dgSCntXffs96d4xTT72fQfssFq7jP27eFY8cjANfQ+o+HNI1kqdT063vHj4DSrmren6fbabbLbWVusESHhY1wBVLQmWpzXkfEb/AJ+PD/5y/wDxFHkfEb/n48P/AJy//EV2dFIZxnkfEb/n48P/AJy//EUeR8Rv+fjw/wDnL/8AEV2dFAHGeR8Rv+fjw/8AnL/8RR5HxG/5+PD/AOcv/wARXZ0UAcZ5HxG/5+PD/wCcv/xFHkfEb/n48P8A5y//ABFdnRQBxnkfEb/n48P/AJy//EUeR8Rv+fjw/wDnL/8AEV2dFAHGeR8Rv+fjw/8AnL/8RR5HxG/5+PD/AOcv/wARXZ0UAcZ5HxG/5+PD/wCcv/xFHkfEb/n48P8A5y//ABFdnRQBxnkfEb/n48P/AJy//EUeR8Rv+fjw/wDnL/8AEV2dFAHGeR8Rv+fjw/8AnL/8RR5HxG/5+PD/AOcv/wARXZ0UAcZ5HxG/5+PD/wCcv/xFHkfEb/n48P8A5y//ABFdnRQBxnkfEb/n48P/AJy//EUeR8Rv+fjw/wDnL/8AEV2dFAHGeR8Rv+fjw/8AnL/8RR5HxG/5+PD/AOcv/wARXZ0UAcZ5HxG/5+PD/wCcv/xFHkfEb/n48P8A5y//ABFdnRQBxnkfEb/n48P/AJy//EVw/wAW774gaT4BvJbmXTGifEbGxMnmAE4zyor2uqep6ba6rZSWl9Cs0Ei4ZWpNXQ07M+A9D1S+sdfgurGeUXfmggoTlznvX3toc09xotjLdAiaS3RpAezYGa4jTfgn4L0XVk1C2s2adTuUO+Rn6V6LGoCqAAMDtVX0sTbUkooopDCiiigAooooAKKKKACiiigAooooAKKKKACiiigAooooAKKKKACiiigAooooAKKKKACiiigAooooAKKKKACiiigAooooAKKKKACiiigAoopKAGs3XHHNed6r4r8RX3ifUNL8OC0iXT1Bka5/iOM8cV6E4yp/PjmvDNS0OTXvHus3enQGR4ZAr+bey2+flH9xlBH1qVuB6Z8O9Y1TX/CkGp60bfzrj5k8gcYrq65L4d6vHqfhqOOGyjshaM1u0UXKgrwSp7j3rraoBaKKKACiiigAooooAKKKKACiiigAooooAKKKKACiiigAooooAKKKKACiiigAooooAKKKKACkYZpaa1AHB/Ea/i0+TSJ55fKiS5BbPfg8Vs6F4z0fX7t7bT5H+0RfejkjKHHqM9RWV8QrYXN5oqPAJk+1qSGTcOhqtdwbPjRpzRR7UWzYNtXA6HHNAM9DooooAKKKKACiiigAooooAKKKKACiiigAooooAKKKKACiiigAooooAKKKKACiiigAooooAKKKKACkzS0UAJmjNLRQAmaM0tFACZozS0UAJmjNLRQAmaM0tFACZopaKAG7Qa5/UvAfhnWLw3Wo6TDPORguSwJ/I10VFICnp2mWek2Udpp0C28ES7UjToBVulopiEzRmlooGJmjNLRQAmaM0tFACZozS0UAJmjNLRQAmaM0tFACZozS0UAJmjNLRQAmaM0tFACZozS0UAJmjNLRQAmaM0tFACZozS0UAJmgjNLRQBG8McjAugYr0JHSkEEfmLIUBdRgMRzUtFACZozS0UAJmjNLRQAmaM0tFACZozS0UAJmjNLRQAmaM0tFACZozS0UAJmjNLRQAmaM0tFACZozS0UAFFFFABRRRQAUUUUAFFFFABRRRQAUUUUAFFFFABRRRQAUUUUAFFFFABRRRQAUUUUAFFFFABRRRQAUUUUAFFFFABRRRQAUUUUAFFFFABRRRQAUUUUAFFFFABRRRQAUUUUAFFFFABRRRQAUUUUAFFFFABRRRQAUUUUAFFFFABRRRQAUUUUAFFFFABRRRQAUUUUAFFFFABRRRQAUUUUAFFFFAH//2Q==)"
      ]
    },
    {
      "cell_type": "code",
      "metadata": {
        "id": "t_FKmqjoleyb"
      },
      "source": [
        "model= ConcreteModel()\n",
        "\n",
        "### Defining data\n",
        "colorList = list(range(1, 8+1))\n",
        "edges = set([('a', 'b'), ('a', 'e'), ('b', 'c'), ('e', 'b'), ('e', 'f'), ('e', 'g'), ('e', 'h'), ('c', 'd'), ('c', 'f'), ('f', 'd'), ('f', 'h')])\n",
        "vertices = set(['a', 'b', 'c', 'd', 'e', 'f', 'g', 'h'])\n",
        "\n",
        "model.X = Var(vertices, colorList, initialize = 0, within = Binary)\n",
        "model.y = Var()\n",
        "\n",
        "### Defining constraints\n",
        "### No two adjacent vertex shouldnt have same\n",
        "model.adj_edge = ConstraintList()\n",
        "for i,j in edges:\n",
        "  for c in colorList:\n",
        "    model.adj_edge.add(model.X[i, c] + model.X[j, c] <= 1)\n",
        "    \n",
        "### Only one color assigment\n",
        "model.one_color = ConstraintList()\n",
        "for v in vertices:\n",
        "    model.one_color.add(sum(model.X[v, c] for c in colorList) == 1)\n",
        "\n",
        "### COnstraint on minimum number of colors\n",
        "model.min_color = ConstraintList()\n",
        "for v in vertices:\n",
        "  for c in colorList:\n",
        "    model.min_color.add(model.y >= c*model.X[v,c])\n",
        "\n",
        "model.Obj = Objective(expr = model.y)\n"
      ],
      "execution_count": null,
      "outputs": []
    },
    {
      "cell_type": "code",
      "metadata": {
        "id": "aexRFe29lfLP"
      },
      "source": [
        "opt = SolverFactory('cbc', sense = 'minimize')"
      ],
      "execution_count": null,
      "outputs": []
    },
    {
      "cell_type": "code",
      "metadata": {
        "id": "owds_U1YQ6Oh",
        "outputId": "eaa46625-ffe4-42fd-aaa8-6c82a7266ea3",
        "colab": {
          "base_uri": "https://localhost:8080/"
        }
      },
      "source": [
        "opt.solve(model)"
      ],
      "execution_count": null,
      "outputs": [
        {
          "output_type": "execute_result",
          "data": {
            "text/plain": [
              "{'Problem': [{'Name': 'unknown', 'Lower bound': 3.0, 'Upper bound': 3.0, 'Number of objectives': 1, 'Number of constraints': 160, 'Number of variables': 65, 'Number of binary variables': 64, 'Number of integer variables': 64, 'Number of nonzeros': 1, 'Sense': 'minimize'}], 'Solver': [{'Status': 'ok', 'User time': -1.0, 'System time': 0.13, 'Wallclock time': 0.13, 'Termination condition': 'optimal', 'Termination message': 'Model was solved to optimality (subject to tolerances), and an optimal solution is available.', 'Statistics': {'Branch and bound': {'Number of bounded subproblems': 0, 'Number of created subproblems': 0}, 'Black box': {'Number of iterations': 0}}, 'Error rc': 0, 'Time': 0.14908337593078613}], 'Solution': [OrderedDict([('number of solutions', 0), ('number of solutions displayed', 0)])]}"
            ]
          },
          "metadata": {
            "tags": []
          },
          "execution_count": 47
        }
      ]
    },
    {
      "cell_type": "code",
      "metadata": {
        "id": "ev1C1swYQ67H",
        "outputId": "fb988fb2-096e-4e42-fc7b-9a500ae4ab81",
        "colab": {
          "base_uri": "https://localhost:8080/"
        }
      },
      "source": [
        "model.X.display()"
      ],
      "execution_count": null,
      "outputs": [
        {
          "output_type": "stream",
          "text": [
            "X : Size=64, Index=X_index\n",
            "    Key      : Lower : Value : Upper : Fixed : Stale : Domain\n",
            "    ('a', 1) :     0 :   0.0 :     1 : False : False : Binary\n",
            "    ('a', 2) :     0 :   0.0 :     1 : False : False : Binary\n",
            "    ('a', 3) :     0 :   1.0 :     1 : False : False : Binary\n",
            "    ('a', 4) :     0 :   0.0 :     1 : False : False : Binary\n",
            "    ('a', 5) :     0 :   0.0 :     1 : False : False : Binary\n",
            "    ('a', 6) :     0 :   0.0 :     1 : False : False : Binary\n",
            "    ('a', 7) :     0 :   0.0 :     1 : False : False : Binary\n",
            "    ('a', 8) :     0 :   0.0 :     1 : False : False : Binary\n",
            "    ('b', 1) :     0 :   1.0 :     1 : False : False : Binary\n",
            "    ('b', 2) :     0 :   0.0 :     1 : False : False : Binary\n",
            "    ('b', 3) :     0 :   0.0 :     1 : False : False : Binary\n",
            "    ('b', 4) :     0 :   0.0 :     1 : False : False : Binary\n",
            "    ('b', 5) :     0 :   0.0 :     1 : False : False : Binary\n",
            "    ('b', 6) :     0 :   0.0 :     1 : False : False : Binary\n",
            "    ('b', 7) :     0 :   0.0 :     1 : False : False : Binary\n",
            "    ('b', 8) :     0 :   0.0 :     1 : False : False : Binary\n",
            "    ('c', 1) :     0 :   0.0 :     1 : False : False : Binary\n",
            "    ('c', 2) :     0 :   0.0 :     1 : False : False : Binary\n",
            "    ('c', 3) :     0 :   1.0 :     1 : False : False : Binary\n",
            "    ('c', 4) :     0 :   0.0 :     1 : False : False : Binary\n",
            "    ('c', 5) :     0 :   0.0 :     1 : False : False : Binary\n",
            "    ('c', 6) :     0 :   0.0 :     1 : False : False : Binary\n",
            "    ('c', 7) :     0 :   0.0 :     1 : False : False : Binary\n",
            "    ('c', 8) :     0 :   0.0 :     1 : False : False : Binary\n",
            "    ('d', 1) :     0 :   0.0 :     1 : False : False : Binary\n",
            "    ('d', 2) :     0 :   1.0 :     1 : False : False : Binary\n",
            "    ('d', 3) :     0 :   0.0 :     1 : False : False : Binary\n",
            "    ('d', 4) :     0 :   0.0 :     1 : False : False : Binary\n",
            "    ('d', 5) :     0 :   0.0 :     1 : False : False : Binary\n",
            "    ('d', 6) :     0 :   0.0 :     1 : False : False : Binary\n",
            "    ('d', 7) :     0 :   0.0 :     1 : False : False : Binary\n",
            "    ('d', 8) :     0 :   0.0 :     1 : False : False : Binary\n",
            "    ('e', 1) :     0 :   0.0 :     1 : False : False : Binary\n",
            "    ('e', 2) :     0 :   1.0 :     1 : False : False : Binary\n",
            "    ('e', 3) :     0 :   0.0 :     1 : False : False : Binary\n",
            "    ('e', 4) :     0 :   0.0 :     1 : False : False : Binary\n",
            "    ('e', 5) :     0 :   0.0 :     1 : False : False : Binary\n",
            "    ('e', 6) :     0 :   0.0 :     1 : False : False : Binary\n",
            "    ('e', 7) :     0 :   0.0 :     1 : False : False : Binary\n",
            "    ('e', 8) :     0 :   0.0 :     1 : False : False : Binary\n",
            "    ('f', 1) :     0 :   1.0 :     1 : False : False : Binary\n",
            "    ('f', 2) :     0 :   0.0 :     1 : False : False : Binary\n",
            "    ('f', 3) :     0 :   0.0 :     1 : False : False : Binary\n",
            "    ('f', 4) :     0 :   0.0 :     1 : False : False : Binary\n",
            "    ('f', 5) :     0 :   0.0 :     1 : False : False : Binary\n",
            "    ('f', 6) :     0 :   0.0 :     1 : False : False : Binary\n",
            "    ('f', 7) :     0 :   0.0 :     1 : False : False : Binary\n",
            "    ('f', 8) :     0 :   0.0 :     1 : False : False : Binary\n",
            "    ('g', 1) :     0 :   0.0 :     1 : False : False : Binary\n",
            "    ('g', 2) :     0 :   0.0 :     1 : False : False : Binary\n",
            "    ('g', 3) :     0 :   1.0 :     1 : False : False : Binary\n",
            "    ('g', 4) :     0 :   0.0 :     1 : False : False : Binary\n",
            "    ('g', 5) :     0 :   0.0 :     1 : False : False : Binary\n",
            "    ('g', 6) :     0 :   0.0 :     1 : False : False : Binary\n",
            "    ('g', 7) :     0 :   0.0 :     1 : False : False : Binary\n",
            "    ('g', 8) :     0 :   0.0 :     1 : False : False : Binary\n",
            "    ('h', 1) :     0 :   0.0 :     1 : False : False : Binary\n",
            "    ('h', 2) :     0 :   0.0 :     1 : False : False : Binary\n",
            "    ('h', 3) :     0 :   1.0 :     1 : False : False : Binary\n",
            "    ('h', 4) :     0 :   0.0 :     1 : False : False : Binary\n",
            "    ('h', 5) :     0 :   0.0 :     1 : False : False : Binary\n",
            "    ('h', 6) :     0 :   0.0 :     1 : False : False : Binary\n",
            "    ('h', 7) :     0 :   0.0 :     1 : False : False : Binary\n",
            "    ('h', 8) :     0 :   0.0 :     1 : False : False : Binary\n"
          ],
          "name": "stdout"
        }
      ]
    },
    {
      "cell_type": "code",
      "metadata": {
        "id": "nKv6sZw6Q7JL"
      },
      "source": [
        "solutionDf = pd.DataFrame({'i': [i[0] for i in model.X.iterkeys()], 'j': [i[1] for i in model.X.iterkeys()], 'assignment': [i.value for i in model.X.itervalues()]})\n",
        "solutionDf = solutionDf[solutionDf['assignment'] == 1]"
      ],
      "execution_count": null,
      "outputs": []
    },
    {
      "cell_type": "code",
      "metadata": {
        "id": "mKNYr1jRcevk",
        "outputId": "4c20f9bb-1f62-439b-c4ee-2e6406b1730a",
        "colab": {
          "base_uri": "https://localhost:8080/",
          "height": 284
        }
      },
      "source": [
        "solutionDf"
      ],
      "execution_count": null,
      "outputs": [
        {
          "output_type": "execute_result",
          "data": {
            "text/html": [
              "<div>\n",
              "<style scoped>\n",
              "    .dataframe tbody tr th:only-of-type {\n",
              "        vertical-align: middle;\n",
              "    }\n",
              "\n",
              "    .dataframe tbody tr th {\n",
              "        vertical-align: top;\n",
              "    }\n",
              "\n",
              "    .dataframe thead th {\n",
              "        text-align: right;\n",
              "    }\n",
              "</style>\n",
              "<table border=\"1\" class=\"dataframe\">\n",
              "  <thead>\n",
              "    <tr style=\"text-align: right;\">\n",
              "      <th></th>\n",
              "      <th>i</th>\n",
              "      <th>j</th>\n",
              "      <th>assignment</th>\n",
              "    </tr>\n",
              "  </thead>\n",
              "  <tbody>\n",
              "    <tr>\n",
              "      <th>2</th>\n",
              "      <td>h</td>\n",
              "      <td>3</td>\n",
              "      <td>1.0</td>\n",
              "    </tr>\n",
              "    <tr>\n",
              "      <th>9</th>\n",
              "      <td>e</td>\n",
              "      <td>2</td>\n",
              "      <td>1.0</td>\n",
              "    </tr>\n",
              "    <tr>\n",
              "      <th>18</th>\n",
              "      <td>c</td>\n",
              "      <td>3</td>\n",
              "      <td>1.0</td>\n",
              "    </tr>\n",
              "    <tr>\n",
              "      <th>26</th>\n",
              "      <td>a</td>\n",
              "      <td>3</td>\n",
              "      <td>1.0</td>\n",
              "    </tr>\n",
              "    <tr>\n",
              "      <th>34</th>\n",
              "      <td>g</td>\n",
              "      <td>3</td>\n",
              "      <td>1.0</td>\n",
              "    </tr>\n",
              "    <tr>\n",
              "      <th>40</th>\n",
              "      <td>b</td>\n",
              "      <td>1</td>\n",
              "      <td>1.0</td>\n",
              "    </tr>\n",
              "    <tr>\n",
              "      <th>49</th>\n",
              "      <td>d</td>\n",
              "      <td>2</td>\n",
              "      <td>1.0</td>\n",
              "    </tr>\n",
              "    <tr>\n",
              "      <th>56</th>\n",
              "      <td>f</td>\n",
              "      <td>1</td>\n",
              "      <td>1.0</td>\n",
              "    </tr>\n",
              "  </tbody>\n",
              "</table>\n",
              "</div>"
            ],
            "text/plain": [
              "    i  j  assignment\n",
              "2   h  3         1.0\n",
              "9   e  2         1.0\n",
              "18  c  3         1.0\n",
              "26  a  3         1.0\n",
              "34  g  3         1.0\n",
              "40  b  1         1.0\n",
              "49  d  2         1.0\n",
              "56  f  1         1.0"
            ]
          },
          "metadata": {
            "tags": []
          },
          "execution_count": 50
        }
      ]
    },
    {
      "cell_type": "code",
      "metadata": {
        "id": "RprS2MfpcfXh"
      },
      "source": [
        "['blue', 'green', 'yellow']"
      ],
      "execution_count": null,
      "outputs": []
    },
    {
      "cell_type": "code",
      "metadata": {
        "id": "PBTj5CV7cfk4"
      },
      "source": [
        ""
      ],
      "execution_count": null,
      "outputs": []
    },
    {
      "cell_type": "code",
      "metadata": {
        "id": "NfKu8OgycfyJ"
      },
      "source": [
        ""
      ],
      "execution_count": null,
      "outputs": []
    },
    {
      "cell_type": "code",
      "metadata": {
        "id": "Y-VljwKucgHs"
      },
      "source": [
        ""
      ],
      "execution_count": null,
      "outputs": []
    },
    {
      "cell_type": "code",
      "metadata": {
        "id": "NnTquWCkQ7Tz"
      },
      "source": [
        ""
      ],
      "execution_count": null,
      "outputs": []
    }
  ]
}