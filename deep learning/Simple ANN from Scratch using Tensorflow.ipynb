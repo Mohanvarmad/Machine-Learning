{
 "cells": [
  {
   "cell_type": "code",
   "execution_count": 2,
   "metadata": {},
   "outputs": [],
   "source": [
    "import tensorflow as tf\n",
    "import numpy as np\n",
    "import pandas as pd"
   ]
  },
  {
   "cell_type": "markdown",
   "metadata": {},
   "source": [
    "#### Data creation"
   ]
  },
  {
   "cell_type": "code",
   "execution_count": 4,
   "metadata": {},
   "outputs": [],
   "source": [
    "T, F = 1., -1.\n",
    "bias = 1."
   ]
  },
  {
   "cell_type": "code",
   "execution_count": 32,
   "metadata": {},
   "outputs": [
    {
     "name": "stdout",
     "output_type": "stream",
     "text": [
      "Epoch: 1 mse: 1.1156948\n",
      "Epoch: 2 mse: 0.23107085\n",
      "Epoch: 3 mse: 0.0043377667\n",
      "Epoch: 4 mse: 0.0014718625\n",
      "Epoch: 5 mse: 0.0009494263\n",
      "Epoch: 6 mse: 0.00071433594\n",
      "Epoch: 7 mse: 0.00057790143\n",
      "Epoch: 8 mse: 0.0004880072\n",
      "Epoch: 9 mse: 0.00042384077\n",
      "Epoch: 10 mse: 0.00037533208\n",
      "Epoch: 11 mse: 0.00033704937\n",
      "Epoch: 12 mse: 0.00030581275\n",
      "Epoch: 13 mse: 0.00027966217\n",
      "Epoch: 14 mse: 0.0002573353\n",
      "Epoch: 15 mse: 0.0002379681\n",
      "Epoch: 16 mse: 0.00022096965\n",
      "Epoch: 17 mse: 0.00020589861\n",
      "Epoch: 18 mse: 0.00019243537\n",
      "Epoch: 19 mse: 0.00018032995\n",
      "Epoch: 20 mse: 0.00016938918\n"
     ]
    }
   ],
   "source": [
    "train_in = [\n",
    "    [T, T, bias],\n",
    "    [T, F, bias],\n",
    "    [F, T, bias],\n",
    "    [F, F, bias]\n",
    "]\n",
    "\n",
    "train_out = [\n",
    "    [T],\n",
    "    [F],\n",
    "    [F],\n",
    "    [F]\n",
    "]\n",
    "\n",
    "#Init = tf.random_normal([3, 1])\n",
    "w = tf.Variable(tf.random_normal([3, 1]))\n",
    "\n",
    "mult = tf.matmul(train_in, w)\n",
    "#cost = tf.reduce_sum(mult)\n",
    "\n",
    "actFun = tf.tanh(mult)\n",
    "error = tf.subtract(train_out, actFun)\n",
    "mse = tf.reduce_mean(tf.square(error))\n",
    "\n",
    "delta = tf.matmul(train_in, error, transpose_a=True)\n",
    "train = tf.assign(w, tf.add(w, delta))\n",
    "\n",
    "sess = tf.Session()\n",
    "sess.run(tf.initialize_all_variables())\n",
    "\n",
    "err, target = 1, 0\n",
    "epoch, max_epoch = 0, 20\n",
    "\n",
    "while err>target and epoch < max_epoch:\n",
    "    epoch += 1\n",
    "    err, _ = sess.run([mse, train])\n",
    "    print('Epoch:', epoch, 'mse:',err)"
   ]
  },
  {
   "cell_type": "markdown",
   "metadata": {},
   "source": [
    "#### MNIST"
   ]
  },
  {
   "cell_type": "code",
   "execution_count": 33,
   "metadata": {},
   "outputs": [],
   "source": [
    "from tensorflow.examples.tutorials.mnist import input_data"
   ]
  },
  {
   "cell_type": "code",
   "execution_count": 36,
   "metadata": {},
   "outputs": [
    {
     "name": "stdout",
     "output_type": "stream",
     "text": [
      "Extracting MNIST_data\\train-images-idx3-ubyte.gz\n",
      "Extracting MNIST_data\\train-labels-idx1-ubyte.gz\n",
      "WARNING:tensorflow:From C:\\Users\\Mohan\\Anaconda3\\lib\\site-packages\\tensorflow\\contrib\\learn\\python\\learn\\datasets\\mnist.py:110: dense_to_one_hot (from tensorflow.contrib.learn.python.learn.datasets.mnist) is deprecated and will be removed in a future version.\n",
      "Instructions for updating:\n",
      "Please use tf.one_hot on tensors.\n",
      "Extracting MNIST_data\\t10k-images-idx3-ubyte.gz\n",
      "Extracting MNIST_data\\t10k-labels-idx1-ubyte.gz\n"
     ]
    }
   ],
   "source": [
    "mnist = input_data.read_data_sets('MNIST_data', one_hot = True)"
   ]
  },
  {
   "cell_type": "code",
   "execution_count": 40,
   "metadata": {},
   "outputs": [
    {
     "name": "stdout",
     "output_type": "stream",
     "text": [
      "(55000, 784)\n",
      "(55000, 10)\n",
      "(10000, 784)\n",
      "(10000, 10)\n"
     ]
    }
   ],
   "source": [
    "train_x = mnist.train.images\n",
    "print(train_x.shape)\n",
    "train_y = mnist.train.labels\n",
    "print(train_y.shape)\n",
    "test_x = mnist.test.images\n",
    "print(test_x.shape)\n",
    "test_y =mnist.test.labels\n",
    "print(test_y.shape)"
   ]
  },
  {
   "cell_type": "markdown",
   "metadata": {},
   "source": [
    "### Model with\n",
    "- 1 Input layer ((55000, 784))\n",
    "- 1 hidden layer with 500 units (())\n",
    "- 1 output layer with i unit"
   ]
  },
  {
   "cell_type": "code",
   "execution_count": null,
   "metadata": {},
   "outputs": [],
   "source": [
    "## Input to hidden layer1 weights and bias\n",
    "\n",
    "W01 = tf.Variable(tf.random_normal([500, train_x.shape[1]]))\n",
    "B01 = tf.Variable(tf.random_normal)\n"
   ]
  },
  {
   "cell_type": "code",
   "execution_count": null,
   "metadata": {},
   "outputs": [],
   "source": []
  },
  {
   "cell_type": "code",
   "execution_count": null,
   "metadata": {},
   "outputs": [],
   "source": []
  },
  {
   "cell_type": "code",
   "execution_count": null,
   "metadata": {},
   "outputs": [],
   "source": []
  },
  {
   "cell_type": "code",
   "execution_count": null,
   "metadata": {},
   "outputs": [],
   "source": []
  },
  {
   "cell_type": "code",
   "execution_count": null,
   "metadata": {},
   "outputs": [],
   "source": []
  },
  {
   "cell_type": "code",
   "execution_count": null,
   "metadata": {},
   "outputs": [],
   "source": []
  },
  {
   "cell_type": "code",
   "execution_count": null,
   "metadata": {},
   "outputs": [],
   "source": []
  }
 ],
 "metadata": {
  "kernelspec": {
   "display_name": "Python 3",
   "language": "python",
   "name": "python3"
  },
  "language_info": {
   "codemirror_mode": {
    "name": "ipython",
    "version": 3
   },
   "file_extension": ".py",
   "mimetype": "text/x-python",
   "name": "python",
   "nbconvert_exporter": "python",
   "pygments_lexer": "ipython3",
   "version": "3.6.7"
  }
 },
 "nbformat": 4,
 "nbformat_minor": 2
}
